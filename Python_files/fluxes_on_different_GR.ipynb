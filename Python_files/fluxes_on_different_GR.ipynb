{
 "cells": [
  {
   "cell_type": "markdown",
   "metadata": {},
   "source": [
    "* Set objective function to glucose minimization\n",
    "* Set upper bounds for biomass: 0.05, 0.10, 0.15, 0.20, 0.25, 0.30 (0.30 is max Rhodotorula growth rate in lab)\n",
    "* Print all fluxes, find biomass function and NADPH functions (in PPP): 'TALA'=Transaldolase, 'TKT1'=Transketolase, 'TKT2'=Transketolase, 'RPI'=Ribose-5-phosphate isomerase (RKI - vist), 'G6PDH2rp'=Glucose 6-phosphate dehydrogenase (ZWF), 'GND'=Phosphogluconate dehydrogenase (GND), 'PGLp'=6-phosphogluconolactonase\n",
    "\n",
    "* r_0466 - Glucose 6-phosphate dehydrogenase \n",
    "* r_0659 - Isocitrate dehydrogenase (NADP)\n",
    "* r_0889 - Phosphogluconate dehydrogenase\n",
    "* r_2140 - Fatty-acyl-CoA synthase (n-C16:0CoA)\n",
    "* r_2141 - Fatty-acyl-CoA synthase (n-C18:0CoA) \n",
    "\n",
    "* Make graphs where specific growth rate is on x-axis and the flux is on y-axis\n"
   ]
  },
  {
   "cell_type": "code",
   "execution_count": 30,
   "metadata": {},
   "outputs": [],
   "source": [
    "import cobra\n",
    "import pandas as pd\n",
    "import os\n",
    "from os.path import join\n",
    "from cobra import Model, Reaction, Metabolite\n",
    "from cobra.sampling import sampling\n",
    "import numpy as np\n",
    "os.environ[\"R_HOME\"] = f\"{os.environ['CONDA_PREFIX']}\\\\Lib\\\\R\"\n",
    "import rpy2.robjects\n",
    "from plotnine import *\n",
    "import matplotlib.pyplot as plt\n"
   ]
  },
  {
   "cell_type": "code",
   "execution_count": 84,
   "metadata": {},
   "outputs": [],
   "source": [
    "# Importing the model\n",
    "model=cobra.io.read_sbml_model(\"C:\\\\Users\\\\Maive\\\\Desktop\\\\BSc_loputoo\\\\Model_files\\\\Rt_IFO0880.xml\")\n"
   ]
  },
  {
   "cell_type": "code",
   "execution_count": 88,
   "metadata": {},
   "outputs": [
    {
     "data": {
      "text/plain": [
       "-9999.0"
      ]
     },
     "execution_count": 88,
     "metadata": {},
     "output_type": "execute_result"
    }
   ],
   "source": [
    "# Changing the objective function\n",
    "model.objective = \"EX_glc__D_e\" \n",
    "solution = model.optimize('minimize') # minimize the objective function\n",
    "solution.objective_value # get the objective value i.e flux of the objective function\n",
    "# print(model.objective.expression)\n",
    "# print(model.objective.direction)\n",
    "# solution"
   ]
  },
  {
   "cell_type": "code",
   "execution_count": 44,
   "metadata": {},
   "outputs": [],
   "source": [
    "# from cobra.util.solver import linear_reaction_coefficients\n",
    "\n",
    "# model.reactions.get_by_id(\"ATPM\").upper_bound = 1000\n",
    "# model.reactions.get_by_id(\"ATPM\").lower_bound = 1.22\n",
    "\n",
    "# linear_reaction_coefficients(model)\n",
    "# model.reactions.ATPM.bounds\n"
   ]
  },
  {
   "cell_type": "code",
   "execution_count": 25,
   "metadata": {},
   "outputs": [],
   "source": [
    "# Export DataFrames to excel - NB! Will overwrite the pages\n",
    "# with pd.ExcelWriter(\"C:\\\\Users\\Maive\\\\Desktop\\\\BSc_loputoo\\\\Simulated_values\\\\sim_values.xlsx\") as excel_writer:\n",
    "#     PPP_enzymes_fluxes.to_excel(excel_writer, sheet_name='Sheet1', index=False)\n",
    "#     ATPM_ACITL_fluxes.to_excel(excel_writer, sheet_name='Sheet2', index=False)\n",
    "#     exchange_fluxes.to_excel(excel_writer, sheet_name='Sheet3', index=False)"
   ]
  },
  {
   "cell_type": "code",
   "execution_count": 35,
   "metadata": {},
   "outputs": [],
   "source": [
    "# # Changing glucose uptake\n",
    "# medium = model.medium \n",
    "# medium['EX_glc__D_e'] = 4.0 # modifying growth medium to their respective upper import bounds, 4.0 is needed for GR of 0.3\n",
    "# model.medium = medium"
   ]
  },
  {
   "cell_type": "code",
   "execution_count": 36,
   "metadata": {},
   "outputs": [],
   "source": [
    "# Get all fluxes\n",
    "flux_values = solution.fluxes.to_frame(name='Flux') # solution.fluxes gives fluxes for all reactions, to_frame makes it a pandas dataframe\n",
    "#flux_values "
   ]
  },
  {
   "cell_type": "code",
   "execution_count": 37,
   "metadata": {},
   "outputs": [],
   "source": [
    "# Get all fluxes on different GR\n",
    "GR_range= [0.05, 0.10, 0.15, 0.20, 0.25, 0.30]\n",
    "flux_values_specific_GR = pd.DataFrame(columns=['GR', *flux_values.index], index=range(len(GR_range))) #flux_values.index gives the row names column, * extracts the list of strings\n",
    "\n",
    "for i in range(len(GR_range)):\n",
    "    model.reactions.BIOMASS_RT.bounds = GR_range[i], GR_range[i]\n",
    "    solution = model.optimize('minimize')\n",
    "    flux_values_specific_GR.loc[i] = solution.fluxes[['BIOMASS_RT', *flux_values.index]].values\n",
    "# Example for finding a certain reaction flux: flux_values_specific_GR['EX_o2_e']\n",
    "# flux_values_specific_GR"
   ]
  },
  {
   "cell_type": "code",
   "execution_count": 38,
   "metadata": {},
   "outputs": [],
   "source": [
    "def get_fluxes_on_specific_GR(model, GR_range, enzymes, minimize = True):\n",
    "    fluxes = pd.DataFrame(columns=['GR', *enzymes], index=range(len(GR_range)))\n",
    "    for i in range(len(GR_range)):\n",
    "        model.reactions.BIOMASS_RT.bounds = GR_range[i], GR_range[i]\n",
    "        solution = model.optimize('minimize' if minimize else 'maximize')        \n",
    "        fluxes.loc[i] = solution.fluxes[['BIOMASS_RT', *enzymes]].values\n",
    "    return fluxes"
   ]
  },
  {
   "cell_type": "code",
   "execution_count": 90,
   "metadata": {},
   "outputs": [
    {
     "data": {
      "text/html": [
       "<div>\n",
       "<style scoped>\n",
       "    .dataframe tbody tr th:only-of-type {\n",
       "        vertical-align: middle;\n",
       "    }\n",
       "\n",
       "    .dataframe tbody tr th {\n",
       "        vertical-align: top;\n",
       "    }\n",
       "\n",
       "    .dataframe thead th {\n",
       "        text-align: right;\n",
       "    }\n",
       "</style>\n",
       "<table border=\"1\" class=\"dataframe\">\n",
       "  <thead>\n",
       "    <tr style=\"text-align: right;\">\n",
       "      <th></th>\n",
       "      <th>GR</th>\n",
       "      <th>ATPM</th>\n",
       "      <th>ACITL</th>\n",
       "    </tr>\n",
       "  </thead>\n",
       "  <tbody>\n",
       "    <tr>\n",
       "      <th>0</th>\n",
       "      <td>0.05</td>\n",
       "      <td>1.22</td>\n",
       "      <td>0.0</td>\n",
       "    </tr>\n",
       "    <tr>\n",
       "      <th>1</th>\n",
       "      <td>0.1</td>\n",
       "      <td>1.22</td>\n",
       "      <td>0.0</td>\n",
       "    </tr>\n",
       "    <tr>\n",
       "      <th>2</th>\n",
       "      <td>0.15</td>\n",
       "      <td>1.22</td>\n",
       "      <td>0.0</td>\n",
       "    </tr>\n",
       "    <tr>\n",
       "      <th>3</th>\n",
       "      <td>0.2</td>\n",
       "      <td>1.22</td>\n",
       "      <td>0.0</td>\n",
       "    </tr>\n",
       "    <tr>\n",
       "      <th>4</th>\n",
       "      <td>0.25</td>\n",
       "      <td>1.22</td>\n",
       "      <td>0.0</td>\n",
       "    </tr>\n",
       "    <tr>\n",
       "      <th>5</th>\n",
       "      <td>0.3</td>\n",
       "      <td>1.22</td>\n",
       "      <td>0.0</td>\n",
       "    </tr>\n",
       "  </tbody>\n",
       "</table>\n",
       "</div>"
      ],
      "text/plain": [
       "     GR  ATPM ACITL\n",
       "0  0.05  1.22   0.0\n",
       "1   0.1  1.22   0.0\n",
       "2  0.15  1.22   0.0\n",
       "3   0.2  1.22   0.0\n",
       "4  0.25  1.22   0.0\n",
       "5   0.3  1.22   0.0"
      ]
     },
     "execution_count": 90,
     "metadata": {},
     "output_type": "execute_result"
    }
   ],
   "source": [
    "# Fluxes for ATPM and ACITL\n",
    "GR_range= [0.05, 0.10, 0.15, 0.20, 0.25, 0.30]\n",
    "enzymes = ['ACITL']\n",
    "ATPM_ACITL_fluxes = get_fluxes_on_specific_GR(model, GR_range, enzymes)\n",
    "ATPM_ACITL_fluxes\n"
   ]
  },
  {
   "cell_type": "code",
   "execution_count": 17,
   "metadata": {},
   "outputs": [
    {
     "data": {
      "image/png": "[encoded data removed]",
      "text/plain": [
       "<Figure size 640x480 with 1 Axes>"
      ]
     },
     "metadata": {},
     "output_type": "display_data"
    }
   ],
   "source": [
    "plt.plot(GR_range, np.abs(ATPM_ACITL_fluxes[['ATPM', 'ACITL']]), 'o', label=['ATPM', 'ACITL'])\n",
    "plt.xlabel('Biomass growth rate')\n",
    "plt.ylabel('Flux')\n",
    "plt.title(\"Biomass growth rate vs ATPM & ACITL fluxes\")\n",
    "plt.legend(fontsize=6, loc='upper left')\n",
    "plt.show()"
   ]
  },
  {
   "cell_type": "code",
   "execution_count": 99,
   "metadata": {},
   "outputs": [],
   "source": [
    "# Get fluxes for PPP enzymes\n",
    "# add phosphoketolase 'XPK', pyruvate decarboxylase 'PYRDC', pyruvate dehydrogenase 'PDHm'\n",
    "\n",
    "GR_range= [0.05, 0.10, 0.15, 0.20, 0.25, 0.30]\n",
    "enzymes = ['TALA', 'TKT1', 'TKT2', 'RPI', 'G6PDH2rp', 'GND','PGLp','XPK','PYRDC','PDHm']\n",
    "PPP_enzymes_fluxes = get_fluxes_on_specific_GR(model, GR_range, enzymes)\n",
    "# PPP_enzymes_fluxes\n"
   ]
  },
  {
   "cell_type": "code",
   "execution_count": 100,
   "metadata": {},
   "outputs": [
    {
     "data": {
      "text/html": [
       "<div>\n",
       "<style scoped>\n",
       "    .dataframe tbody tr th:only-of-type {\n",
       "        vertical-align: middle;\n",
       "    }\n",
       "\n",
       "    .dataframe tbody tr th {\n",
       "        vertical-align: top;\n",
       "    }\n",
       "\n",
       "    .dataframe thead th {\n",
       "        text-align: right;\n",
       "    }\n",
       "</style>\n",
       "<table border=\"1\" class=\"dataframe\">\n",
       "  <thead>\n",
       "    <tr style=\"text-align: right;\">\n",
       "      <th></th>\n",
       "      <th>GR</th>\n",
       "      <th>TALA</th>\n",
       "      <th>TKT1</th>\n",
       "      <th>TKT2</th>\n",
       "      <th>RPI</th>\n",
       "      <th>G6PDH2rp</th>\n",
       "      <th>GND</th>\n",
       "      <th>PGLp</th>\n",
       "      <th>XPK</th>\n",
       "      <th>PYRDC</th>\n",
       "      <th>PDHm</th>\n",
       "      <th>oxpp</th>\n",
       "    </tr>\n",
       "  </thead>\n",
       "  <tbody>\n",
       "    <tr>\n",
       "      <th>0</th>\n",
       "      <td>0.05</td>\n",
       "      <td>0.0</td>\n",
       "      <td>-7.170386</td>\n",
       "      <td>14.247339</td>\n",
       "      <td>7.077127</td>\n",
       "      <td>0.0</td>\n",
       "      <td>0.0</td>\n",
       "      <td>0.0</td>\n",
       "      <td>0.0</td>\n",
       "      <td>0.0</td>\n",
       "      <td>0.0</td>\n",
       "      <td>1.769282</td>\n",
       "    </tr>\n",
       "    <tr>\n",
       "      <th>1</th>\n",
       "      <td>0.1</td>\n",
       "      <td>0.0</td>\n",
       "      <td>-13.730772</td>\n",
       "      <td>27.274678</td>\n",
       "      <td>13.544255</td>\n",
       "      <td>0.0</td>\n",
       "      <td>0.0</td>\n",
       "      <td>0.0</td>\n",
       "      <td>0.0</td>\n",
       "      <td>0.0</td>\n",
       "      <td>0.0</td>\n",
       "      <td>3.386064</td>\n",
       "    </tr>\n",
       "    <tr>\n",
       "      <th>2</th>\n",
       "      <td>0.15</td>\n",
       "      <td>0.0</td>\n",
       "      <td>-20.291157</td>\n",
       "      <td>40.302017</td>\n",
       "      <td>20.011382</td>\n",
       "      <td>0.0</td>\n",
       "      <td>0.0</td>\n",
       "      <td>0.0</td>\n",
       "      <td>0.0</td>\n",
       "      <td>0.0</td>\n",
       "      <td>0.0</td>\n",
       "      <td>5.002845</td>\n",
       "    </tr>\n",
       "    <tr>\n",
       "      <th>3</th>\n",
       "      <td>0.2</td>\n",
       "      <td>0.0</td>\n",
       "      <td>-26.851543</td>\n",
       "      <td>53.329356</td>\n",
       "      <td>26.478509</td>\n",
       "      <td>0.0</td>\n",
       "      <td>0.0</td>\n",
       "      <td>0.0</td>\n",
       "      <td>0.0</td>\n",
       "      <td>0.0</td>\n",
       "      <td>0.0</td>\n",
       "      <td>6.619627</td>\n",
       "    </tr>\n",
       "    <tr>\n",
       "      <th>4</th>\n",
       "      <td>0.25</td>\n",
       "      <td>0.0</td>\n",
       "      <td>-33.411929</td>\n",
       "      <td>66.356695</td>\n",
       "      <td>32.945637</td>\n",
       "      <td>0.0</td>\n",
       "      <td>0.0</td>\n",
       "      <td>0.0</td>\n",
       "      <td>0.0</td>\n",
       "      <td>0.0</td>\n",
       "      <td>0.0</td>\n",
       "      <td>8.236409</td>\n",
       "    </tr>\n",
       "    <tr>\n",
       "      <th>5</th>\n",
       "      <td>0.3</td>\n",
       "      <td>0.0</td>\n",
       "      <td>-39.972315</td>\n",
       "      <td>79.384034</td>\n",
       "      <td>39.412764</td>\n",
       "      <td>0.0</td>\n",
       "      <td>0.0</td>\n",
       "      <td>0.0</td>\n",
       "      <td>0.0</td>\n",
       "      <td>0.0</td>\n",
       "      <td>0.0</td>\n",
       "      <td>9.853191</td>\n",
       "    </tr>\n",
       "  </tbody>\n",
       "</table>\n",
       "</div>"
      ],
      "text/plain": [
       "     GR TALA       TKT1       TKT2        RPI G6PDH2rp  GND PGLp  XPK PYRDC  \\\n",
       "0  0.05  0.0  -7.170386  14.247339   7.077127      0.0  0.0  0.0  0.0   0.0   \n",
       "1   0.1  0.0 -13.730772  27.274678  13.544255      0.0  0.0  0.0  0.0   0.0   \n",
       "2  0.15  0.0 -20.291157  40.302017  20.011382      0.0  0.0  0.0  0.0   0.0   \n",
       "3   0.2  0.0 -26.851543  53.329356  26.478509      0.0  0.0  0.0  0.0   0.0   \n",
       "4  0.25  0.0 -33.411929  66.356695  32.945637      0.0  0.0  0.0  0.0   0.0   \n",
       "5   0.3  0.0 -39.972315  79.384034  39.412764      0.0  0.0  0.0  0.0   0.0   \n",
       "\n",
       "  PDHm      oxpp  \n",
       "0  0.0  1.769282  \n",
       "1  0.0  3.386064  \n",
       "2  0.0  5.002845  \n",
       "3  0.0  6.619627  \n",
       "4  0.0  8.236409  \n",
       "5  0.0  9.853191  "
      ]
     },
     "execution_count": 100,
     "metadata": {},
     "output_type": "execute_result"
    }
   ],
   "source": [
    "# Add the values together that are the same - oxpp> all these four are the same, get their absolute value\n",
    "# oxpp\n",
    "PPP_enzymes_fluxes['oxpp'] = (PPP_enzymes_fluxes.G6PDH2rp + PPP_enzymes_fluxes.PGLp + PPP_enzymes_fluxes.GND + PPP_enzymes_fluxes.RPI)/4\n",
    "PPP_enzymes_fluxes"
   ]
  },
  {
   "cell_type": "code",
   "execution_count": 101,
   "metadata": {},
   "outputs": [
    {
     "data": {
      "image/png": "[encoded data removed]",
      "text/plain": [
       "<Figure size 640x480 with 1 Axes>"
      ]
     },
     "metadata": {},
     "output_type": "display_data"
    }
   ],
   "source": [
    "# Plot the PPP enzymes fluxes\n",
    "\n",
    "plt.plot(PPP_enzymes_fluxes['GR'], np.abs(PPP_enzymes_fluxes[['TALA', 'TKT1',\t'TKT2',\t'XPK','PYRDC','PDHm', 'oxpp']]), 'o', label=['TALA', 'TKT1', 'TKT2','XPK','PYRDC','PDHm', 'oxpp'])\n",
    "plt.xlabel('Biomass growth rate')\n",
    "plt.ylabel('Flux')\n",
    "plt.title(\"Biomass growth rate vs PPP enzymes' fluxes\")\n",
    "plt.legend(fontsize=6, loc='upper left')\n",
    "plt.show()\n",
    "\n",
    "# exchange_fluxes_all = model.summary().to_frame()\n",
    "# exchange_fluxes_all = exchange_fluxes_all[abs(exchange_fluxes_all['flux']) != 0.01]\n",
    "# exchange_fluxes_all = exchange_fluxes_all[['metabolite', 'flux']]\n",
    "# # exchange_fluxes_all"
   ]
  },
  {
   "cell_type": "code",
   "execution_count": 102,
   "metadata": {},
   "outputs": [],
   "source": [
    "# #Change glucose bounds\n",
    "# model.reactions.get_by_id(\"BIOMASS_RT\").upper_bound = 0.3\n",
    "# model.reactions.get_by_id(\"BIOMASS_RT\").lower_bound = 0.3\n",
    "# # Make sure no amino acid uptake, constrain those reactions\n",
    "# #model.reactions.get_by_id(\"EX_glc__D_e\")\n",
    "# # model.reactions.get_by_id(\"EX_co2_e\").upper_bound = 9999\n",
    "# model.summary()\n"
   ]
  },
  {
   "cell_type": "code",
   "execution_count": 72,
   "metadata": {},
   "outputs": [],
   "source": [
    "# model.reactions.BIOMASS_RT.bounds = GR_range[1], GR_range[1]\n",
    "# summary005 = model.summary() #.to_frame() #exchange fluxes\n",
    "# # summary005 = summary005[abs(summary005['flux']) != 0.0]\n",
    "# #summary005\n"
   ]
  },
  {
   "cell_type": "code",
   "execution_count": 145,
   "metadata": {},
   "outputs": [],
   "source": [
    "# # Getting exchange fluxes\n",
    "# GR_range= [0.05, 0.10, 0.15, 0.20, 0.25, 0.30]\n",
    "# # def get_exchange_fluxes(model, GR_range, minimize = True ):\n",
    "# for i in range(len(GR_range)):\n",
    "#     model.reactions.BIOMASS_RT.bounds = GR_range[i], GR_range[i]\n",
    "#     solution = model.optimize('minimize')       #('minimize' if minimize else 'maximize') # minimize the objective function   \n",
    "#     if i == 0:\n",
    "#         summary005 = model.summary().to_frame()\n",
    "#         summary005 = summary005[abs(summary005['flux']) != 0.0]\n",
    "#         summary005 = summary005[['metabolite', 'flux']]\n",
    "\n",
    "    # elif i == 1:\n",
    "    #     summary010 = model.summary().to_frame()\n",
    "    #     summary010 = summary010[abs(summary010['flux']) != 0.0]\n",
    "    #     summary010 = summary010[['metabolite', 'flux']]\n",
    "\n",
    "    # elif i == 2:\n",
    "    #     summary015 = model.summary().to_frame()\n",
    "    #     summary015 = summary015[abs(summary015['flux']) != 0.0]\n",
    "    #     summary010 = summary010[['metabolite', 'flux']]\n",
    "\n",
    "\n",
    "    # elif i == 3:\n",
    "    #     summary020 = model.summary().to_frame()\n",
    "    #     summary020 = summary020[abs(summary020['flux']) != 0.0]\n",
    "    #     summary020 = summary020[['metabolite', 'flux']]\n",
    "\n",
    "\n",
    "    # elif i == 4:\n",
    "    #     summary025 = model.summary().to_frame()\n",
    "    #     summary025 = summary025[abs(summary025['flux']) != 0.0]\n",
    "    #     summary025 = summary025[['metabolite', 'flux']]\n",
    "\n",
    "\n",
    "    # elif i == 5:\n",
    "    #     summary030 = model.summary().to_frame()\n",
    "    #     summary030 = summary030[abs(summary030['flux']) != 0.0]\n",
    "    #     summary030 = summary030[['metabolite', 'flux']]\n",
    "        \n",
    "\n",
    "\n"
   ]
  },
  {
   "cell_type": "code",
   "execution_count": 190,
   "metadata": {},
   "outputs": [
    {
     "data": {
      "text/html": [
       "<div>\n",
       "<style scoped>\n",
       "    .dataframe tbody tr th:only-of-type {\n",
       "        vertical-align: middle;\n",
       "    }\n",
       "\n",
       "    .dataframe tbody tr th {\n",
       "        vertical-align: top;\n",
       "    }\n",
       "\n",
       "    .dataframe thead th {\n",
       "        text-align: right;\n",
       "    }\n",
       "</style>\n",
       "<table border=\"1\" class=\"dataframe\">\n",
       "  <thead>\n",
       "    <tr style=\"text-align: right;\">\n",
       "      <th>metabolite</th>\n",
       "      <th>ca2_e</th>\n",
       "      <th>co2_e</th>\n",
       "      <th>cu2_e</th>\n",
       "      <th>fe2_e</th>\n",
       "      <th>fe3_e</th>\n",
       "      <th>glc__D_e</th>\n",
       "    </tr>\n",
       "    <tr>\n",
       "      <th>GR</th>\n",
       "      <th></th>\n",
       "      <th></th>\n",
       "      <th></th>\n",
       "      <th></th>\n",
       "      <th></th>\n",
       "      <th></th>\n",
       "    </tr>\n",
       "  </thead>\n",
       "  <tbody>\n",
       "    <tr>\n",
       "      <th>0.05</th>\n",
       "      <td>0.000042</td>\n",
       "      <td>1.803280</td>\n",
       "      <td>0.000026</td>\n",
       "      <td>0.000214</td>\n",
       "      <td>0.000308</td>\n",
       "      <td>0.691224</td>\n",
       "    </tr>\n",
       "    <tr>\n",
       "      <th>0.10</th>\n",
       "      <td>0.000083</td>\n",
       "      <td>3.423804</td>\n",
       "      <td>0.000053</td>\n",
       "      <td>0.000428</td>\n",
       "      <td>0.000617</td>\n",
       "      <td>1.351989</td>\n",
       "    </tr>\n",
       "    <tr>\n",
       "      <th>0.15</th>\n",
       "      <td>0.000125</td>\n",
       "      <td>5.044459</td>\n",
       "      <td>0.000079</td>\n",
       "      <td>0.000643</td>\n",
       "      <td>0.000925</td>\n",
       "      <td>2.012776</td>\n",
       "    </tr>\n",
       "    <tr>\n",
       "      <th>0.20</th>\n",
       "      <td>0.000166</td>\n",
       "      <td>6.665114</td>\n",
       "      <td>0.000105</td>\n",
       "      <td>0.000857</td>\n",
       "      <td>0.001234</td>\n",
       "      <td>2.673563</td>\n",
       "    </tr>\n",
       "    <tr>\n",
       "      <th>0.25</th>\n",
       "      <td>0.000208</td>\n",
       "      <td>8.285770</td>\n",
       "      <td>0.000131</td>\n",
       "      <td>0.001071</td>\n",
       "      <td>0.001542</td>\n",
       "      <td>3.334350</td>\n",
       "    </tr>\n",
       "    <tr>\n",
       "      <th>0.30</th>\n",
       "      <td>0.000250</td>\n",
       "      <td>9.906425</td>\n",
       "      <td>0.000157</td>\n",
       "      <td>0.001285</td>\n",
       "      <td>0.001851</td>\n",
       "      <td>3.995137</td>\n",
       "    </tr>\n",
       "  </tbody>\n",
       "</table>\n",
       "</div>"
      ],
      "text/plain": [
       "metabolite     ca2_e     co2_e     cu2_e     fe2_e     fe3_e  glc__D_e\n",
       "GR                                                                    \n",
       "0.05        0.000042  1.803280  0.000026  0.000214  0.000308  0.691224\n",
       "0.10        0.000083  3.423804  0.000053  0.000428  0.000617  1.351989\n",
       "0.15        0.000125  5.044459  0.000079  0.000643  0.000925  2.012776\n",
       "0.20        0.000166  6.665114  0.000105  0.000857  0.001234  2.673563\n",
       "0.25        0.000208  8.285770  0.000131  0.001071  0.001542  3.334350\n",
       "0.30        0.000250  9.906425  0.000157  0.001285  0.001851  3.995137"
      ]
     },
     "execution_count": 190,
     "metadata": {},
     "output_type": "execute_result"
    }
   ],
   "source": [
    "\n",
    "# Make a pd dataframe with all exchange fluxes that are not zero, then make a pivot table with metabolites fluxes on specific growth rate\n",
    "GR_range= [0.05, 0.10, 0.15, 0.20, 0.25, 0.30]\n",
    "\n",
    "model.reactions.BIOMASS_RT.bounds = GR_range[0], GR_range[0]\n",
    "solution = model.optimize('minimize')\n",
    "exchange_fluxes_all = model.summary().to_frame()\n",
    "exchange_fluxes_all['GR'] = GR_range[0]\n",
    "\n",
    "\n",
    "for i in range(1, len(GR_range)):\n",
    "    model.reactions.BIOMASS_RT.bounds = GR_range[i], GR_range[i]\n",
    "    solution = model.optimize('minimize')\n",
    "    model_summary = model.summary().to_frame()\n",
    "    model_summary['GR'] = GR_range[i]\n",
    "    exchange_fluxes_all = pd.concat([exchange_fluxes_all, model_summary], axis=0)  \n",
    "    \n",
    "exchange_fluxes_all = exchange_fluxes_all[(exchange_fluxes_all['flux']) != 0.0]\n",
    "exchange_fluxes_all['flux'] = abs(exchange_fluxes_all['flux'])\n",
    "\n",
    "# Get specific metabolites with their fluxes\n",
    "exchange_fluxes_table = pd.pivot_table(exchange_fluxes_all[exchange_fluxes_all.metabolite.isin([\"co2_e\", \"ca2_e\", 'cu2_e', 'fe2_e', 'fe3_e', 'glc__D_e'])], \n",
    "                                       values='flux', index=['GR'], columns=['metabolite'])\n",
    "\n",
    "\n",
    "exchange_fluxes_table\n"
   ]
  },
  {
   "cell_type": "code",
   "execution_count": 164,
   "metadata": {},
   "outputs": [
    {
     "data": {
      "image/png": "[encoded data removed]",
      "text/plain": [
       "<Figure size 640x480 with 1 Axes>"
      ]
     },
     "metadata": {},
     "output_type": "display_data"
    }
   ],
   "source": [
    "# Make plots for exchange reactions\n",
    "\n",
    "plt.plot(GR_range, exchange_fluxes_table[exchange_fluxes_table.columns], 'o', label = exchange_fluxes_table.columns)\n",
    "\n",
    "plt.xlabel('Biomass growth rate')\n",
    "plt.ylabel('Flux')\n",
    "plt.title(\"Exchange fluxes\")\n",
    "plt.legend(fontsize=6, loc='upper left', bbox_to_anchor=(1.05, 1))\n",
    "plt.yticks(range(0, 20, 1))\n",
    "plt.show()\n",
    "\n"
   ]
  },
  {
   "cell_type": "code",
   "execution_count": 5,
   "metadata": {},
   "outputs": [],
   "source": [
    "\n",
    "# # Make metabolic map using escher\n",
    "# import escher\n",
    "# from escher import Builder\n",
    "# from time import sleep"
   ]
  },
  {
   "cell_type": "code",
   "execution_count": null,
   "metadata": {},
   "outputs": [],
   "source": [
    "# builder = Builder()\n"
   ]
  },
  {
   "cell_type": "code",
   "execution_count": 7,
   "metadata": {},
   "outputs": [],
   "source": [
    "from pathlib import Path\n",
    "from cobra.io import load_json_model, save_json_model, load_matlab_model, save_matlab_model, read_sbml_model, write_sbml_model\n",
    "import logging\n",
    "save_json_model(model, \"C:\\\\Users\\\\Maive\\\\Desktop\\\\BSc_loputoo\\\\Model_files\\\\edited_model.json\")"
   ]
  }
 ],
 "metadata": {
  "kernelspec": {
   "display_name": "bachelor_thesis",
   "language": "python",
   "name": "python3"
  },
  "language_info": {
   "codemirror_mode": {
    "name": "ipython",
    "version": 3
   },
   "file_extension": ".py",
   "mimetype": "text/x-python",
   "name": "python",
   "nbconvert_exporter": "python",
   "pygments_lexer": "ipython3",
   "version": "3.12.0"
  }
 },
 "nbformat": 4,
 "nbformat_minor": 2
}
