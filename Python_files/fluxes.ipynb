{
 "cells": [
  {
   "cell_type": "markdown",
   "metadata": {},
   "source": [
    "* Set objective function to glucose minimization\n",
    "* Set upper bounds for biomass: 0.05, 0.10, 0.15, 0.20, 0.25, 0.30 (0.30 is max Rhodotorula growth rate in lab)\n",
    "* Find fluxes for enzymes in PPP: 'TALA'=Transaldolase, 'TKT1'=Transketolase, 'TKT2'=Transketolase, 'RPI'=Ribose-5-phosphate isomerase (RKI - vist), 'G6PDH2rp'=Glucose 6-phosphate dehydrogenase (ZWF), 'GND'=Phosphogluconate dehydrogenase (GND), 'PGLp'=6-phosphogluconolactonase"
   ]
  },
  {
   "cell_type": "code",
   "execution_count": 1,
   "metadata": {},
   "outputs": [],
   "source": [
    "import cobra\n",
    "import pandas as pd\n",
    "import os\n",
    "from os.path import join\n",
    "from cobra import Model, Reaction, Metabolite\n",
    "from cobra.sampling import sampling\n",
    "import numpy as np\n",
    "os.environ[\"R_HOME\"] = f\"{os.environ['CONDA_PREFIX']}\\\\Lib\\\\R\"\n",
    "import rpy2.robjects\n",
    "from plotnine import *\n",
    "import matplotlib.pyplot as plt"
   ]
  },
  {
   "cell_type": "code",
   "execution_count": 2,
   "metadata": {},
   "outputs": [
    {
     "name": "stdout",
     "output_type": "stream",
     "text": [
      "Set parameter Username\n",
      "Academic license - for non-commercial use only - expires 2025-01-21\n"
     ]
    }
   ],
   "source": [
    "# Importing the model\n",
    "model=cobra.io.read_sbml_model(\"C:\\\\Users\\\\Maive\\\\Desktop\\\\BSc_loputoo\\\\Model_files\\\\Rt_IFO0880.xml\")"
   ]
  },
  {
   "cell_type": "code",
   "execution_count": 7,
   "metadata": {},
   "outputs": [],
   "source": [
    "# Changing the objective function to glucose min\n",
    "model.objective = \"EX_glc__D_e\" \n",
    "solution = model.optimize('minimize') # minimize the objective function, get solution\n",
    "solution.objective_value # get the objective value i.e flux of the objective function"
   ]
  },
  {
   "cell_type": "code",
   "execution_count": null,
   "metadata": {},
   "outputs": [],
   "source": [
    "# Export DataFrames to excel - NB! Will overwrite the pages\n",
    "# with pd.ExcelWriter(\"C:\\\\Users\\Maive\\\\Desktop\\\\BSc_loputoo\\\\Simulated_values\\\\sim_values.xlsx\") as excel_writer:\n",
    "#     PPP_enzymes_fluxes.to_excel(excel_writer, sheet_name='Sheet1', index=False)\n",
    "#     ATPM_ACITL_fluxes.to_excel(excel_writer, sheet_name='Sheet2', index=False)\n",
    "#     exchange_fluxes.to_excel(excel_writer, sheet_name='Sheet3', index=False)"
   ]
  }
 ],
 "metadata": {
  "kernelspec": {
   "display_name": "bachelor_thesis",
   "language": "python",
   "name": "python3"
  },
  "language_info": {
   "codemirror_mode": {
    "name": "ipython",
    "version": 3
   },
   "file_extension": ".py",
   "mimetype": "text/x-python",
   "name": "python",
   "nbconvert_exporter": "python",
   "pygments_lexer": "ipython3",
   "version": "3.12.0"
  }
 },
 "nbformat": 4,
 "nbformat_minor": 2
}
