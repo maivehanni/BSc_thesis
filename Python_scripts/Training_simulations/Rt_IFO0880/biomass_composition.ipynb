{
 "cells": [
  {
   "cell_type": "markdown",
   "metadata": {},
   "source": [
    "Getting biomass composition, specifically lipids content\n",
    "* get all lipid's coefficients from biomass reaction (on the right side of the reaction)"
   ]
  },
  {
   "cell_type": "code",
   "execution_count": 1,
   "metadata": {},
   "outputs": [],
   "source": [
    "import cobra\n",
    "import pandas as pd\n",
    "import os\n",
    "from os.path import join\n",
    "from cobra import Model, Reaction, Metabolite\n",
    "from cobra.sampling import sampling\n",
    "import numpy as np\n",
    "os.environ[\"R_HOME\"] = f\"{os.environ['CONDA_PREFIX']}\\\\Lib\\\\R\"\n",
    "import rpy2.robjects\n",
    "from plotnine import *\n",
    "import matplotlib.pyplot as plt"
   ]
  },
  {
   "cell_type": "code",
   "execution_count": 40,
   "metadata": {},
   "outputs": [],
   "source": [
    "# Importing the model\n",
    "model=cobra.io.read_sbml_model(\"C:\\\\Users\\\\Maive\\\\Desktop\\\\BSc_loputoo\\\\Model_files\\\\Rt_IFO0880.xml\")"
   ]
  },
  {
   "cell_type": "code",
   "execution_count": 3,
   "metadata": {},
   "outputs": [],
   "source": [
    "# # Change glucose bounds\n",
    "# model.reactions.get_by_id(\"EX_glc__D_e\").upper_bound = 9999\n",
    "# model.reactions.get_by_id(\"EX_glc__D_e\").lower_bound = -9999"
   ]
  },
  {
   "cell_type": "code",
   "execution_count": 12,
   "metadata": {},
   "outputs": [],
   "source": [
    "# Changing the objective function to glucose min\n",
    "model.objective = \"BIOMASS_RT\" \n",
    "solution = model.optimize() # minimize the objective function, get solution\n"
   ]
  },
  {
   "cell_type": "code",
   "execution_count": 5,
   "metadata": {},
   "outputs": [
    {
     "data": {
      "text/plain": [
       "0.0"
      ]
     },
     "execution_count": 5,
     "metadata": {},
     "output_type": "execute_result"
    }
   ],
   "source": [
    "# model.reactions.ACITL.metabolites\n",
    "# solution.fluxes.to_frame(name='Flux')\n",
    "# solution.fluxes['ACITL']\n"
   ]
  },
  {
   "cell_type": "code",
   "execution_count": 13,
   "metadata": {},
   "outputs": [
    {
     "data": {
      "text/plain": [
       "-282.726764"
      ]
     },
     "execution_count": 13,
     "metadata": {},
     "output_type": "execute_result"
    }
   ],
   "source": [
    "# # Summing the coefficients of the biomass reaction - include only positive coefficients?\n",
    "# biomass_total_coefficient = sum(coeff for coeff in model.reactions.BIOMASS_RT.metabolites.values() if coeff < 0)\n",
    "# biomass_total_coefficient"
   ]
  },
  {
   "cell_type": "code",
   "execution_count": 37,
   "metadata": {},
   "outputs": [],
   "source": [
    "# Lipid names: phosphatidylcholine, cardiolipin, triglyceride, ergosterol \n",
    "# lipid_ids = ['pc_RT_r', 'clpn_RT_m', 'triglyc_RT_r', 'ergst_r'] # lipids chosen from Tiukova git repo: lipidData_Tiukova2018.csv\n",
    "# lipid_ids = ['ergstest_RT_r', 'ergst_r', 'psphings_r', 'clpn_RT_m', 'pa_RT_r', 'triglyc_RT_r', 'pc_RT_r', 'zymstest_RT_d', 'ptd1ino_RT_r', 'ps_RT_r'] # lipid-related metabolites form biomass reaction\n",
    "lipid_ids = ['epist_c', 'tag_c', 'hdca_c', 'ocdca_c', 'ocdcea_c', 'linoea_c', 'linolen_c', 'docosa_c', 'ttcosa_c', 'pail_c', 'pc_c', 'pe_c', 'ps_c', 'ipc_g'] # IDs from old iRhto model\n",
    "\n"
   ]
  },
  {
   "cell_type": "code",
   "execution_count": 1,
   "metadata": {},
   "outputs": [],
   "source": [
    "# rxn_metabolites_IDs = []\n",
    "# rxn_metabolites_coefficients = []\n",
    "\n",
    "# for m in model.reactions.get_by_id('BIOMASS_RT').reactants:\n",
    "#     rxn_metabolites_IDs += [m.id]\n",
    "#     rxn_metabolites_coefficients += [model.reactions.get_by_id('BIOMASS_RT').get_coefficient(m.id)]\n",
    "\n",
    "# biomass_rxn_coef = pd.DataFrame({'Metabolite ID': rxn_metabolites_IDs, 'Coefficient': rxn_metabolites_coefficients})\n",
    "# biomass_rxn_coef"
   ]
  },
  {
   "cell_type": "markdown",
   "metadata": {},
   "source": [
    "139.6887 ATP C10H12N5O13P3[c] + 0.000795 Nicotinamide adenine dinucleotide phosphate[c] + 135.7196 H2O H2O[c] + 0.000888 Nicotinamide adenine dinucleotide[c] + 0.051085 GTP C10H12N5O14P3[c] + 0.031005 Chitin  monomer  C8H13NO5[c] + 0.00077 Coenzyme A[c] + 0.002451 DATP C10H12N5O12P3[c] + 0.00192 Glutathione[c] + 0.004285 DCTP C9H12N3O13P3[c] + 0.51322 Glycyl-tRNA(Gly)[c] + 0.044881 CTP C9H12N3O14P3[c] + 0.00013 Phosphatidylethanolamine[r] + 0.000597 Fe2+ mitochondria[c] + 0.20867 L-Glutamyl-tRNA(Glu)[c] + 0.001327 5,6,7,8-Tetrahydrofolate[c] + 0.000751 Flavin adenine dinucleotide oxidized[c] + 0.003967 Spermidine[c] + 0.061167 L-Histidyl-tRNA(His)[c] + 0.001393 Thiamin diphosphate[c] + 0.051129 UTP C9H11N2O15P3[c] + 0.023319 L-Tryptophanyl-tRNA(Trp)[c] + 0.001292 5,10-Methylenetetrahydrofolate[c] + 0.026099 Sodium[c] + 0.006524 Putrescine[c] + 0.095164 L-Phenylalanyl-tRNA(Phe)[c] + 0.062363 L-Tyrosyl-tRNA(Tyr)[c] + 0.1973 L-Aspartyl-tRNA(Asp)[c] + 0.003763 DGTP C10H12N5O13P3[c] + 0.80794 Mannan C6H10O5[r] + 0.002523 DTTP C10H13N2O14P3[c] + 0.001792 CAMP C10H11N5O6P[c] + 0.034269 L-Cysteinyl-tRNA(Cys)[c] + 0.17732 1 6 beta D Glucan C6H10O5[c] + 0.32021 L-Leucyl-tRNA(Leu)[c] + 0.15857 L-Isoleucyl-tRNA(Ile)[c] + 0.51807 Glycogen C6H10O5[c] + 0.05705 L-Methionyl-tRNA (Met)[c] + 0.33687 L-Seryl-tRNA(Ser)[c] + 0.9575 1 3 beta D Glucan C6H10O5[c] + 0.001283 5-Methyltetrahydrofolate[c] + 0.004031 Ergosterol C28H44O[r] + 0.004006 Phytosphingosine[r] + 0.57757 L-Alanyl-tRNA(Ala)[c] + 0.1179 L-Glutaminyl-tRNA(Gln)[c] + 0.023372 Trehalose[c] + 0.14667 L-Arginyl-tRNA(Arg)[c] + 0.27517 L-Valyl-tRNA(Val)[c] + 0.0024 Pyridoxal 5'-phosphate[c] + 1.8e-05 Cardiolipin  yeast specific C7380H13688O1700P200[m] + 0.2359 L-Prolyl-tRNA(Pro)[c] + 0.17233 L-Lysine-tRNA (Lys)[c] + 0.21813 L-Threonyl-tRNA(Thr)[c] + 0.000691 Heme A C49H55FeN4O6[m] + 0.00099 Riboflavin C17H20N4O6[c] + 0.10797 L-Asparaginyl-tRNA(Asn)[c] + 0.5857 Potassium[c] + 0.000525 Copper[c] + 0.000597 Iron (Fe3+)[c] + 0.000832 Calcium[c] + 0.002418 Biotin[m] + 0.00074 Ubiquinone-9[m] + 0.004156 Zymosterol C27H44O[r] + 0.003107 Lipoate (protein bound)[m] + 1.4e-05 Phosphatidate  yeast specific C3540H6544O800P100[r] + 0.000432 Triglyceride  yeast specific C5160H9566O600[r] + 1.6e-05 Ergosterol ester  yeast specific C1695H2993O101[r] + 0.000172 Phosphatidylcholine  yeast specific C4040H7844N100O800P100[r] + 1.7e-05 Zymosterol ester  yeast specific C1694H2993O101[d] + 4.7e-05 Phosphatidyl 1D myo inositol  yeast specific C4140H7644O1300P100[r] + 2e-05 Phosphatidylserine  yeast specific C3840H7144N100O1000P100[r] + 0.061716 Magnesium[c] + 0.000607 Manganese[c] + 0.00051 Zinc[c] => 139.6395 ADP C10H12N5O10P2[c] + 139.6395 H+[c] + 0.20936 Diphosphate[c] + 139.6395 Phosphate[c]"
   ]
  }
 ],
 "metadata": {
  "kernelspec": {
   "display_name": "bachelor_thesis",
   "language": "python",
   "name": "python3"
  },
  "language_info": {
   "codemirror_mode": {
    "name": "ipython",
    "version": 3
   },
   "file_extension": ".py",
   "mimetype": "text/x-python",
   "name": "python",
   "nbconvert_exporter": "python",
   "pygments_lexer": "ipython3",
   "version": "3.12.0"
  }
 },
 "nbformat": 4,
 "nbformat_minor": 2
}
