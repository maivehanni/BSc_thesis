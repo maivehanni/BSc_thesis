{
 "cells": [
  {
   "cell_type": "markdown",
   "metadata": {},
   "source": [
    "* Set objective function to glucose minimization\n",
    "* Set upper bounds for biomass: 0.05, 0.10, 0.15, 0.20, 0.25, 0.30 (0.30 is max Rhodotorula growth rate in lab)\n",
    "* Find PPP enzymes fluxes: 'TALA'=Transaldolase, 'TKT1'=Transketolase, 'TKT2'=Transketolase, 'RPI'=Ribose-5-phosphate isomerase (RKI - vist), 'G6PDH2rp'=Glucose 6-phosphate dehydrogenase (ZWF), 'GND'=Phosphogluconate dehydrogenase (GND), 'PGLp'=6-phosphogluconolactonase\n",
    "* And find ATPM & ACITL fluxes\n"
   ]
  },
  {
   "cell_type": "code",
   "execution_count": 27,
   "metadata": {},
   "outputs": [],
   "source": [
    "import cobra\n",
    "import pandas as pd\n",
    "import os\n",
    "from os.path import join\n",
    "from cobra import Model, Reaction, Metabolite\n",
    "from cobra.sampling import sampling\n",
    "import numpy as np\n",
    "os.environ[\"R_HOME\"] = f\"{os.environ['CONDA_PREFIX']}\\\\Lib\\\\R\"\n",
    "import rpy2.robjects\n",
    "from plotnine import *\n",
    "import matplotlib.pyplot as plt\n"
   ]
  },
  {
   "cell_type": "code",
   "execution_count": 28,
   "metadata": {},
   "outputs": [],
   "source": [
    "# Importing the model\n",
    "model=cobra.io.read_sbml_model(\"C:\\\\Users\\\\Maive\\\\Desktop\\\\BSc_loputoo\\\\Model_files\\\\Rt_IFO0880.xml\")\n"
   ]
  },
  {
   "cell_type": "code",
   "execution_count": 29,
   "metadata": {},
   "outputs": [
    {
     "data": {
      "text/plain": [
       "-1.0"
      ]
     },
     "execution_count": 29,
     "metadata": {},
     "output_type": "execute_result"
    }
   ],
   "source": [
    "# Changing the objective function\n",
    "model.objective = \"EX_glc__D_e\" \n",
    "solution = model.optimize('minimize') # minimize the objective function\n",
    "solution.objective_value # get the objective value i.e flux of the objective function\n",
    "# print(model.objective.expression)\n",
    "# print(model.objective.direction)\n",
    "# solution"
   ]
  },
  {
   "cell_type": "code",
   "execution_count": 38,
   "metadata": {},
   "outputs": [],
   "source": [
    "# Change glucose bounds\n",
    "model.reactions.get_by_id(\"EX_glc__D_e\").upper_bound = 9999\n",
    "model.reactions.get_by_id(\"EX_glc__D_e\").lower_bound = -9999"
   ]
  },
  {
   "cell_type": "code",
   "execution_count": 40,
   "metadata": {},
   "outputs": [
    {
     "data": {
      "text/html": [
       "<div>\n",
       "<style scoped>\n",
       "    .dataframe tbody tr th:only-of-type {\n",
       "        vertical-align: middle;\n",
       "    }\n",
       "\n",
       "    .dataframe tbody tr th {\n",
       "        vertical-align: top;\n",
       "    }\n",
       "\n",
       "    .dataframe thead th {\n",
       "        text-align: right;\n",
       "    }\n",
       "</style>\n",
       "<table border=\"1\" class=\"dataframe\">\n",
       "  <thead>\n",
       "    <tr style=\"text-align: right;\">\n",
       "      <th></th>\n",
       "      <th>Flux</th>\n",
       "    </tr>\n",
       "  </thead>\n",
       "  <tbody>\n",
       "    <tr>\n",
       "      <th>ALCD25yi</th>\n",
       "      <td>0.0</td>\n",
       "    </tr>\n",
       "    <tr>\n",
       "      <th>MTHFCm</th>\n",
       "      <td>0.0</td>\n",
       "    </tr>\n",
       "    <tr>\n",
       "      <th>AMPN</th>\n",
       "      <td>0.0</td>\n",
       "    </tr>\n",
       "    <tr>\n",
       "      <th>DAGCPTer_RT</th>\n",
       "      <td>0.0</td>\n",
       "    </tr>\n",
       "    <tr>\n",
       "      <th>PYRt2</th>\n",
       "      <td>0.0</td>\n",
       "    </tr>\n",
       "    <tr>\n",
       "      <th>...</th>\n",
       "      <td>...</td>\n",
       "    </tr>\n",
       "    <tr>\n",
       "      <th>FOLt</th>\n",
       "      <td>0.0</td>\n",
       "    </tr>\n",
       "    <tr>\n",
       "      <th>NADtm</th>\n",
       "      <td>0.0</td>\n",
       "    </tr>\n",
       "    <tr>\n",
       "      <th>EX_pydxn_e</th>\n",
       "      <td>0.0</td>\n",
       "    </tr>\n",
       "    <tr>\n",
       "      <th>PYDXNtr</th>\n",
       "      <td>0.0</td>\n",
       "    </tr>\n",
       "    <tr>\n",
       "      <th>RIBFLVt2</th>\n",
       "      <td>0.0</td>\n",
       "    </tr>\n",
       "  </tbody>\n",
       "</table>\n",
       "<p>2398 rows × 1 columns</p>\n",
       "</div>"
      ],
      "text/plain": [
       "             Flux\n",
       "ALCD25yi      0.0\n",
       "MTHFCm        0.0\n",
       "AMPN          0.0\n",
       "DAGCPTer_RT   0.0\n",
       "PYRt2         0.0\n",
       "...           ...\n",
       "FOLt          0.0\n",
       "NADtm         0.0\n",
       "EX_pydxn_e    0.0\n",
       "PYDXNtr       0.0\n",
       "RIBFLVt2      0.0\n",
       "\n",
       "[2398 rows x 1 columns]"
      ]
     },
     "execution_count": 40,
     "metadata": {},
     "output_type": "execute_result"
    }
   ],
   "source": [
    "# Get all fluxes\n",
    "all_fluxes = solution.fluxes.to_frame(name='Flux') # solution.fluxes gives fluxes for all reactions, to_frame makes it a pandas dataframe\n",
    "all_fluxes "
   ]
  },
  {
   "cell_type": "code",
   "execution_count": 41,
   "metadata": {},
   "outputs": [],
   "source": [
    "# Get all fluxes on different GR\n",
    "GR_range= [0.05, 0.10, 0.15, 0.20, 0.25, 0.30]\n",
    "flux_values_specific_GR = pd.DataFrame(columns=['GR', *all_fluxes.index], index=range(len(GR_range))) #flux_values.index gives the row names column, * extracts the list of strings\n",
    "\n",
    "for i in range(len(GR_range)):\n",
    "    model.reactions.BIOMASS_RT.bounds = GR_range[i], GR_range[i]\n",
    "    solution = model.optimize('minimize')\n",
    "    flux_values_specific_GR.loc[i] = solution.fluxes[['BIOMASS_RT', *all_fluxes.index]].values\n",
    "# Example for finding a certain reaction flux: flux_values_specific_GR['EX_o2_e']\n",
    "# flux_values_specific_GR"
   ]
  },
  {
   "cell_type": "code",
   "execution_count": 42,
   "metadata": {},
   "outputs": [],
   "source": [
    "def fluxes_on_specific_GR(model, GR_range, enzymes, minimize = True):\n",
    "    fluxes = pd.DataFrame(columns=['GR', *enzymes], index=range(len(GR_range)))\n",
    "    for i in range(len(GR_range)):\n",
    "        model.reactions.BIOMASS_RT.bounds = GR_range[i], GR_range[i]\n",
    "        solution = model.optimize('minimize' if minimize else 'maximize')        \n",
    "        fluxes.loc[i] = solution.fluxes[['BIOMASS_RT', *enzymes]].values\n",
    "    return fluxes"
   ]
  },
  {
   "cell_type": "code",
   "execution_count": 43,
   "metadata": {},
   "outputs": [
    {
     "data": {
      "text/html": [
       "<div>\n",
       "<style scoped>\n",
       "    .dataframe tbody tr th:only-of-type {\n",
       "        vertical-align: middle;\n",
       "    }\n",
       "\n",
       "    .dataframe tbody tr th {\n",
       "        vertical-align: top;\n",
       "    }\n",
       "\n",
       "    .dataframe thead th {\n",
       "        text-align: right;\n",
       "    }\n",
       "</style>\n",
       "<table border=\"1\" class=\"dataframe\">\n",
       "  <thead>\n",
       "    <tr style=\"text-align: right;\">\n",
       "      <th></th>\n",
       "      <th>GR</th>\n",
       "      <th>ATPM</th>\n",
       "      <th>ACITL</th>\n",
       "    </tr>\n",
       "  </thead>\n",
       "  <tbody>\n",
       "    <tr>\n",
       "      <th>0</th>\n",
       "      <td>0.05</td>\n",
       "      <td>1.22</td>\n",
       "      <td>0.0</td>\n",
       "    </tr>\n",
       "    <tr>\n",
       "      <th>1</th>\n",
       "      <td>0.1</td>\n",
       "      <td>1.22</td>\n",
       "      <td>0.0</td>\n",
       "    </tr>\n",
       "    <tr>\n",
       "      <th>2</th>\n",
       "      <td>0.15</td>\n",
       "      <td>1.22</td>\n",
       "      <td>0.0</td>\n",
       "    </tr>\n",
       "    <tr>\n",
       "      <th>3</th>\n",
       "      <td>0.2</td>\n",
       "      <td>1.22</td>\n",
       "      <td>0.0</td>\n",
       "    </tr>\n",
       "    <tr>\n",
       "      <th>4</th>\n",
       "      <td>0.25</td>\n",
       "      <td>1.22</td>\n",
       "      <td>0.0</td>\n",
       "    </tr>\n",
       "    <tr>\n",
       "      <th>5</th>\n",
       "      <td>0.3</td>\n",
       "      <td>1.22</td>\n",
       "      <td>0.0</td>\n",
       "    </tr>\n",
       "  </tbody>\n",
       "</table>\n",
       "</div>"
      ],
      "text/plain": [
       "     GR  ATPM ACITL\n",
       "0  0.05  1.22   0.0\n",
       "1   0.1  1.22   0.0\n",
       "2  0.15  1.22   0.0\n",
       "3   0.2  1.22   0.0\n",
       "4  0.25  1.22   0.0\n",
       "5   0.3  1.22   0.0"
      ]
     },
     "execution_count": 43,
     "metadata": {},
     "output_type": "execute_result"
    }
   ],
   "source": [
    "# Fluxes for ATPM and ACITL\n",
    "GR_range= [0.05, 0.10, 0.15, 0.20, 0.25, 0.30]\n",
    "enzymes = ['ATPM', 'ACITL']\n",
    "ATPM_ACITL_fluxes = fluxes_on_specific_GR(model, GR_range, enzymes)\n",
    "ATPM_ACITL_fluxes\n"
   ]
  },
  {
   "cell_type": "code",
   "execution_count": 44,
   "metadata": {},
   "outputs": [
    {
     "data": {
      "image/png": "[encoded data removed]",
      "text/plain": [
       "<Figure size 640x480 with 1 Axes>"
      ]
     },
     "metadata": {},
     "output_type": "display_data"
    }
   ],
   "source": [
    "plt.plot(GR_range, np.abs(ATPM_ACITL_fluxes[['ATPM', 'ACITL']]), 'o', label=['ATPM', 'ACITL'])\n",
    "plt.xlabel('Biomass growth rate')\n",
    "plt.ylabel('Flux')\n",
    "plt.title(\"Biomass growth rate vs ATPM & ACITL fluxes\")\n",
    "plt.legend(fontsize=6, loc='upper left')\n",
    "plt.show()"
   ]
  },
  {
   "cell_type": "code",
   "execution_count": 45,
   "metadata": {},
   "outputs": [],
   "source": [
    "# Get fluxes for PPP enzymes\n",
    "# add phosphoketolase 'XPK', pyruvate decarboxylase 'PYRDC', pyruvate dehydrogenase 'PDHm'\n",
    "\n",
    "GR_range= [0.05, 0.10, 0.15, 0.20, 0.25, 0.30]\n",
    "enzymes = ['TALA', 'TKT1', 'TKT2', 'RPI', 'G6PDH2rp', 'GND','PGLp','XPK','PYRDC','PDHm']\n",
    "PPP_enzymes_fluxes = fluxes_on_specific_GR(model, GR_range, enzymes)\n",
    "# PPP_enzymes_fluxes\n"
   ]
  },
  {
   "cell_type": "code",
   "execution_count": 46,
   "metadata": {},
   "outputs": [
    {
     "data": {
      "text/html": [
       "<div>\n",
       "<style scoped>\n",
       "    .dataframe tbody tr th:only-of-type {\n",
       "        vertical-align: middle;\n",
       "    }\n",
       "\n",
       "    .dataframe tbody tr th {\n",
       "        vertical-align: top;\n",
       "    }\n",
       "\n",
       "    .dataframe thead th {\n",
       "        text-align: right;\n",
       "    }\n",
       "</style>\n",
       "<table border=\"1\" class=\"dataframe\">\n",
       "  <thead>\n",
       "    <tr style=\"text-align: right;\">\n",
       "      <th></th>\n",
       "      <th>GR</th>\n",
       "      <th>TALA</th>\n",
       "      <th>TKT1</th>\n",
       "      <th>TKT2</th>\n",
       "      <th>RPI</th>\n",
       "      <th>G6PDH2rp</th>\n",
       "      <th>GND</th>\n",
       "      <th>PGLp</th>\n",
       "      <th>XPK</th>\n",
       "      <th>PYRDC</th>\n",
       "      <th>PDHm</th>\n",
       "      <th>oxpp</th>\n",
       "    </tr>\n",
       "  </thead>\n",
       "  <tbody>\n",
       "    <tr>\n",
       "      <th>0</th>\n",
       "      <td>0.05</td>\n",
       "      <td>0.0</td>\n",
       "      <td>-7.170386</td>\n",
       "      <td>14.247339</td>\n",
       "      <td>7.077127</td>\n",
       "      <td>0.0</td>\n",
       "      <td>0.0</td>\n",
       "      <td>0.0</td>\n",
       "      <td>0.0</td>\n",
       "      <td>0.0</td>\n",
       "      <td>0.0</td>\n",
       "      <td>1.769282</td>\n",
       "    </tr>\n",
       "    <tr>\n",
       "      <th>1</th>\n",
       "      <td>0.1</td>\n",
       "      <td>0.0</td>\n",
       "      <td>-13.730772</td>\n",
       "      <td>27.274678</td>\n",
       "      <td>13.544255</td>\n",
       "      <td>0.0</td>\n",
       "      <td>0.0</td>\n",
       "      <td>0.0</td>\n",
       "      <td>0.0</td>\n",
       "      <td>0.0</td>\n",
       "      <td>0.0</td>\n",
       "      <td>3.386064</td>\n",
       "    </tr>\n",
       "    <tr>\n",
       "      <th>2</th>\n",
       "      <td>0.15</td>\n",
       "      <td>0.0</td>\n",
       "      <td>-20.291157</td>\n",
       "      <td>40.302017</td>\n",
       "      <td>20.011382</td>\n",
       "      <td>0.0</td>\n",
       "      <td>0.0</td>\n",
       "      <td>0.0</td>\n",
       "      <td>0.0</td>\n",
       "      <td>0.0</td>\n",
       "      <td>0.0</td>\n",
       "      <td>5.002845</td>\n",
       "    </tr>\n",
       "    <tr>\n",
       "      <th>3</th>\n",
       "      <td>0.2</td>\n",
       "      <td>0.0</td>\n",
       "      <td>-26.851543</td>\n",
       "      <td>53.329356</td>\n",
       "      <td>26.478509</td>\n",
       "      <td>0.0</td>\n",
       "      <td>0.0</td>\n",
       "      <td>0.0</td>\n",
       "      <td>0.0</td>\n",
       "      <td>0.0</td>\n",
       "      <td>0.0</td>\n",
       "      <td>6.619627</td>\n",
       "    </tr>\n",
       "    <tr>\n",
       "      <th>4</th>\n",
       "      <td>0.25</td>\n",
       "      <td>0.0</td>\n",
       "      <td>-33.411929</td>\n",
       "      <td>66.356695</td>\n",
       "      <td>32.945637</td>\n",
       "      <td>0.0</td>\n",
       "      <td>0.0</td>\n",
       "      <td>0.0</td>\n",
       "      <td>0.0</td>\n",
       "      <td>0.0</td>\n",
       "      <td>0.0</td>\n",
       "      <td>8.236409</td>\n",
       "    </tr>\n",
       "    <tr>\n",
       "      <th>5</th>\n",
       "      <td>0.3</td>\n",
       "      <td>0.0</td>\n",
       "      <td>-39.972315</td>\n",
       "      <td>79.384034</td>\n",
       "      <td>39.412764</td>\n",
       "      <td>0.0</td>\n",
       "      <td>0.0</td>\n",
       "      <td>0.0</td>\n",
       "      <td>0.0</td>\n",
       "      <td>0.0</td>\n",
       "      <td>0.0</td>\n",
       "      <td>9.853191</td>\n",
       "    </tr>\n",
       "  </tbody>\n",
       "</table>\n",
       "</div>"
      ],
      "text/plain": [
       "     GR TALA       TKT1       TKT2        RPI G6PDH2rp  GND PGLp  XPK PYRDC  \\\n",
       "0  0.05  0.0  -7.170386  14.247339   7.077127      0.0  0.0  0.0  0.0   0.0   \n",
       "1   0.1  0.0 -13.730772  27.274678  13.544255      0.0  0.0  0.0  0.0   0.0   \n",
       "2  0.15  0.0 -20.291157  40.302017  20.011382      0.0  0.0  0.0  0.0   0.0   \n",
       "3   0.2  0.0 -26.851543  53.329356  26.478509      0.0  0.0  0.0  0.0   0.0   \n",
       "4  0.25  0.0 -33.411929  66.356695  32.945637      0.0  0.0  0.0  0.0   0.0   \n",
       "5   0.3  0.0 -39.972315  79.384034  39.412764      0.0  0.0  0.0  0.0   0.0   \n",
       "\n",
       "  PDHm      oxpp  \n",
       "0  0.0  1.769282  \n",
       "1  0.0  3.386064  \n",
       "2  0.0  5.002845  \n",
       "3  0.0  6.619627  \n",
       "4  0.0  8.236409  \n",
       "5  0.0  9.853191  "
      ]
     },
     "execution_count": 46,
     "metadata": {},
     "output_type": "execute_result"
    }
   ],
   "source": [
    "# Add the values together that are the same - oxpp> all these four are the same, get their absolute value\n",
    "# oxpp\n",
    "PPP_enzymes_fluxes['oxpp'] = (PPP_enzymes_fluxes.G6PDH2rp + PPP_enzymes_fluxes.PGLp + PPP_enzymes_fluxes.GND + PPP_enzymes_fluxes.RPI)/4\n",
    "PPP_enzymes_fluxes"
   ]
  },
  {
   "cell_type": "code",
   "execution_count": 47,
   "metadata": {},
   "outputs": [
    {
     "data": {
      "image/png": "[encoded data removed]",
      "text/plain": [
       "<Figure size 640x480 with 1 Axes>"
      ]
     },
     "metadata": {},
     "output_type": "display_data"
    }
   ],
   "source": [
    "# Plot the PPP enzymes fluxes\n",
    "\n",
    "plt.plot(PPP_enzymes_fluxes['GR'], np.abs(PPP_enzymes_fluxes[['TALA', 'TKT1',\t'TKT2',\t'XPK','PYRDC','PDHm', 'oxpp']]), 'o', label=['TALA', 'TKT1', 'TKT2','XPK','PYRDC','PDHm', 'oxpp'])\n",
    "plt.xlabel('Biomass growth rate')\n",
    "plt.ylabel('Flux')\n",
    "plt.title(\"Biomass growth rate vs PPP enzymes' fluxes\")\n",
    "plt.legend(fontsize=6, loc='upper left')\n",
    "plt.show()\n",
    "\n",
    "# exchange_fluxes_all = model.summary().to_frame()\n",
    "# exchange_fluxes_all = exchange_fluxes_all[abs(exchange_fluxes_all['flux']) != 0.01]\n",
    "# exchange_fluxes_all = exchange_fluxes_all[['metabolite', 'flux']]\n",
    "# # exchange_fluxes_all"
   ]
  },
  {
   "cell_type": "code",
   "execution_count": 48,
   "metadata": {},
   "outputs": [],
   "source": [
    "# # Export DataFrames to excel - NB! Will overwrite the pages\n",
    "# with pd.ExcelWriter(\"C:\\\\Users\\\\Maive\\\\Desktop\\\\BSc_loputoo\\\\Results\\\\Simulated_fluxes\\\\PPP_fluxes.xlsx\") as excel_writer:\n",
    "#     PPP_enzymes_fluxes.to_excel(excel_writer, sheet_name='Sheet1', index=False)\n",
    "#     ATPM_ACITL_fluxes.to_excel(excel_writer, sheet_name='Sheet2', index=False)\n"
   ]
  },
  {
   "cell_type": "code",
   "execution_count": null,
   "metadata": {},
   "outputs": [],
   "source": [
    "# from pathlib import Path\n",
    "# from cobra.io import load_json_model, save_json_model, load_matlab_model, save_matlab_model, read_sbml_model, write_sbml_model\n",
    "# import logging\n",
    "# save_json_model(model, \"C:\\\\Users\\\\Maive\\\\Desktop\\\\BSc_loputoo\\\\Model_files\\\\edited_model.json\")"
   ]
  }
 ],
 "metadata": {
  "kernelspec": {
   "display_name": "bachelor_thesis",
   "language": "python",
   "name": "python3"
  },
  "language_info": {
   "codemirror_mode": {
    "name": "ipython",
    "version": 3
   },
   "file_extension": ".py",
   "mimetype": "text/x-python",
   "name": "python",
   "nbconvert_exporter": "python",
   "pygments_lexer": "ipython3",
   "version": "3.12.0"
  }
 },
 "nbformat": 4,
 "nbformat_minor": 2
}
