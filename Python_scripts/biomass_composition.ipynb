{
 "cells": [
  {
   "cell_type": "markdown",
   "metadata": {},
   "source": [
    "Getting biomass composition, specifically lipids content\n",
    "* get all lipid's coefficients from biomass reaction (on the right side of the reaction)"
   ]
  },
  {
   "cell_type": "code",
   "execution_count": 1,
   "metadata": {},
   "outputs": [],
   "source": [
    "import cobra\n",
    "import pandas as pd\n",
    "import os\n",
    "from os.path import join\n",
    "from cobra import Model, Reaction, Metabolite\n",
    "from cobra.sampling import sampling\n",
    "import numpy as np\n",
    "os.environ[\"R_HOME\"] = f\"{os.environ['CONDA_PREFIX']}\\\\Lib\\\\R\"\n",
    "import rpy2.robjects\n",
    "from plotnine import *\n",
    "import matplotlib.pyplot as plt"
   ]
  },
  {
   "cell_type": "code",
   "execution_count": 57,
   "metadata": {},
   "outputs": [],
   "source": [
    "# Importing the model\n",
    "model=cobra.io.read_sbml_model(\"C:\\\\Users\\\\Maive\\\\Desktop\\\\BSc_loputoo\\\\Model_files\\\\Rt_IFO0880.xml\")"
   ]
  },
  {
   "cell_type": "code",
   "execution_count": 42,
   "metadata": {},
   "outputs": [],
   "source": [
    "# Change glucose bounds\n",
    "model.reactions.get_by_id(\"EX_glc__D_e\").upper_bound = 9999\n",
    "model.reactions.get_by_id(\"EX_glc__D_e\").lower_bound = -9999"
   ]
  },
  {
   "cell_type": "code",
   "execution_count": 66,
   "metadata": {},
   "outputs": [],
   "source": [
    "# Changing the objective function to glucose min\n",
    "model.objective = \"ACITL\" \n",
    "solution = model.optimize() # minimize the objective function, get solution\n"
   ]
  },
  {
   "cell_type": "code",
   "execution_count": 69,
   "metadata": {},
   "outputs": [
    {
     "data": {
      "text/plain": [
       "5.999999999999997"
      ]
     },
     "execution_count": 69,
     "metadata": {},
     "output_type": "execute_result"
    }
   ],
   "source": [
    "model.reactions.ACITL.metabolites\n",
    "solution.fluxes.to_frame(name='Flux')\n",
    "solution.fluxes['ACITL']\n"
   ]
  },
  {
   "cell_type": "code",
   "execution_count": 38,
   "metadata": {},
   "outputs": [
    {
     "data": {
      "text/plain": [
       "-282.726764"
      ]
     },
     "execution_count": 38,
     "metadata": {},
     "output_type": "execute_result"
    }
   ],
   "source": [
    "# Summing the coefficients of the biomass reaction - include only positive coefficients?\n",
    "biomass_total_coefficient = sum(coeff for coeff in model.reactions.BIOMASS_RT.metabolites.values() if coeff < 0)\n",
    "biomass_total_coefficient"
   ]
  },
  {
   "cell_type": "code",
   "execution_count": 31,
   "metadata": {},
   "outputs": [],
   "source": [
    "# Lipid names: phosphatidylcholine, cardiolipin, triglyceride, ergosterol \n",
    "# lipid_ids = ['pc_RT_r', 'clpn_RT_m', 'triglyc_RT_r', 'ergst_r'] # lipids chosen from Tiukova git repo: lipidData_Tiukova2018.csv\n",
    "lipid_ids = ['ergstest_RT_r', 'ergst_r', 'psphings_r', 'clpn_RT_m', 'pa_RT_r', 'triglyc_RT_r', 'pc_RT_r', 'zymstest_RT_d', 'ptd1ino_RT_r', 'ps_RT_r'] # lipid-related metabolites form biomass reaction\n"
   ]
  },
  {
   "cell_type": "code",
   "execution_count": 40,
   "metadata": {},
   "outputs": [
    {
     "data": {
      "text/plain": [
       "-0.008773"
      ]
     },
     "execution_count": 40,
     "metadata": {},
     "output_type": "execute_result"
    }
   ],
   "source": [
    "# Getting compositions on different growth rates\n",
    "lipid_coefficients = list(model.reactions.BIOMASS_RT.get_coefficients(lipid_ids))\n",
    "sum(lipid_coefficients)\n",
    "# metabolites = list(model.reactions.BIOMASS_RT.metabolites.keys())\n",
    "\n",
    "# rxn_metabolites_names = []\n",
    "# for i in range(len(metabolites)):\n",
    "#         rxn_metabolites_names += [metabolites[i].id]\n",
    "# rxn_metabolites_names\n"
   ]
  },
  {
   "cell_type": "markdown",
   "metadata": {},
   "source": [
    "139.6887 ATP C10H12N5O13P3[c] + 0.000795 Nicotinamide adenine dinucleotide phosphate[c] + 135.7196 H2O H2O[c] + 0.000888 Nicotinamide adenine dinucleotide[c] + 0.051085 GTP C10H12N5O14P3[c] + 0.031005 Chitin  monomer  C8H13NO5[c] + 0.00077 Coenzyme A[c] + 0.002451 DATP C10H12N5O12P3[c] + 0.00192 Glutathione[c] + 0.004285 DCTP C9H12N3O13P3[c] + 0.51322 Glycyl-tRNA(Gly)[c] + 0.044881 CTP C9H12N3O14P3[c] + 0.00013 Phosphatidylethanolamine[r] + 0.000597 Fe2+ mitochondria[c] + 0.20867 L-Glutamyl-tRNA(Glu)[c] + 0.001327 5,6,7,8-Tetrahydrofolate[c] + 0.000751 Flavin adenine dinucleotide oxidized[c] + 0.003967 Spermidine[c] + 0.061167 L-Histidyl-tRNA(His)[c] + 0.001393 Thiamin diphosphate[c] + 0.051129 UTP C9H11N2O15P3[c] + 0.023319 L-Tryptophanyl-tRNA(Trp)[c] + 0.001292 5,10-Methylenetetrahydrofolate[c] + 0.026099 Sodium[c] + 0.006524 Putrescine[c] + 0.095164 L-Phenylalanyl-tRNA(Phe)[c] + 0.062363 L-Tyrosyl-tRNA(Tyr)[c] + 0.1973 L-Aspartyl-tRNA(Asp)[c] + 0.003763 DGTP C10H12N5O13P3[c] + 0.80794 Mannan C6H10O5[r] + 0.002523 DTTP C10H13N2O14P3[c] + 0.001792 CAMP C10H11N5O6P[c] + 0.034269 L-Cysteinyl-tRNA(Cys)[c] + 0.17732 1 6 beta D Glucan C6H10O5[c] + 0.32021 L-Leucyl-tRNA(Leu)[c] + 0.15857 L-Isoleucyl-tRNA(Ile)[c] + 0.51807 Glycogen C6H10O5[c] + 0.05705 L-Methionyl-tRNA (Met)[c] + 0.33687 L-Seryl-tRNA(Ser)[c] + 0.9575 1 3 beta D Glucan C6H10O5[c] + 0.001283 5-Methyltetrahydrofolate[c] + 0.004031 Ergosterol C28H44O[r] + 0.004006 Phytosphingosine[r] + 0.57757 L-Alanyl-tRNA(Ala)[c] + 0.1179 L-Glutaminyl-tRNA(Gln)[c] + 0.023372 Trehalose[c] + 0.14667 L-Arginyl-tRNA(Arg)[c] + 0.27517 L-Valyl-tRNA(Val)[c] + 0.0024 Pyridoxal 5'-phosphate[c] + 1.8e-05 Cardiolipin  yeast specific C7380H13688O1700P200[m] + 0.2359 L-Prolyl-tRNA(Pro)[c] + 0.17233 L-Lysine-tRNA (Lys)[c] + 0.21813 L-Threonyl-tRNA(Thr)[c] + 0.000691 Heme A C49H55FeN4O6[m] + 0.00099 Riboflavin C17H20N4O6[c] + 0.10797 L-Asparaginyl-tRNA(Asn)[c] + 0.5857 Potassium[c] + 0.000525 Copper[c] + 0.000597 Iron (Fe3+)[c] + 0.000832 Calcium[c] + 0.002418 Biotin[m] + 0.00074 Ubiquinone-9[m] + 0.004156 Zymosterol C27H44O[r] + 0.003107 Lipoate (protein bound)[m] + 1.4e-05 Phosphatidate  yeast specific C3540H6544O800P100[r] + 0.000432 Triglyceride  yeast specific C5160H9566O600[r] + 1.6e-05 Ergosterol ester  yeast specific C1695H2993O101[r] + 0.000172 Phosphatidylcholine  yeast specific C4040H7844N100O800P100[r] + 1.7e-05 Zymosterol ester  yeast specific C1694H2993O101[d] + 4.7e-05 Phosphatidyl 1D myo inositol  yeast specific C4140H7644O1300P100[r] + 2e-05 Phosphatidylserine  yeast specific C3840H7144N100O1000P100[r] + 0.061716 Magnesium[c] + 0.000607 Manganese[c] + 0.00051 Zinc[c] => 139.6395 ADP C10H12N5O10P2[c] + 139.6395 H+[c] + 0.20936 Diphosphate[c] + 139.6395 Phosphate[c]"
   ]
  },
  {
   "cell_type": "code",
   "execution_count": 56,
   "metadata": {},
   "outputs": [
    {
     "ename": "TypeError",
     "evalue": "'Metabolite' object is not iterable",
     "output_type": "error",
     "traceback": [
      "\u001b[1;31m---------------------------------------------------------------------------\u001b[0m",
      "\u001b[1;31mTypeError\u001b[0m                                 Traceback (most recent call last)",
      "Cell \u001b[1;32mIn[56], line 3\u001b[0m\n\u001b[0;32m      1\u001b[0m \u001b[38;5;66;03m# Get all reactions where the metabolite is\u001b[39;00m\n\u001b[1;32m----> 3\u001b[0m metabolite_all_rxns \u001b[38;5;241m=\u001b[39m \u001b[38;5;28;43mlist\u001b[39;49m\u001b[43m(\u001b[49m\u001b[43mmodel\u001b[49m\u001b[38;5;241;43m.\u001b[39;49m\u001b[43mmetabolites\u001b[49m\u001b[38;5;241;43m.\u001b[39;49m\u001b[43mget_by_id\u001b[49m\u001b[43m(\u001b[49m\u001b[38;5;124;43m'\u001b[39;49m\u001b[38;5;124;43mtriglyc_RT_r\u001b[39;49m\u001b[38;5;124;43m'\u001b[39;49m\u001b[43m)\u001b[49m\u001b[43m)\u001b[49m\n\u001b[0;32m      5\u001b[0m \u001b[38;5;66;03m# metabolite_all_rxns_id = []\u001b[39;00m\n\u001b[0;32m      6\u001b[0m \n\u001b[0;32m      7\u001b[0m \u001b[38;5;66;03m# for i in range(len(metabolite_all_rxns)):\u001b[39;00m\n\u001b[1;32m   (...)\u001b[0m\n\u001b[0;32m     11\u001b[0m \u001b[38;5;66;03m# triglyc_RT_r_all_rxns_id = (metabolite_all_rxns_id)\u001b[39;00m\n\u001b[0;32m     12\u001b[0m \u001b[38;5;66;03m# ergst_c_all_rxns_id = (metabolite_all_rxns_id)\u001b[39;00m\n",
      "\u001b[1;31mTypeError\u001b[0m: 'Metabolite' object is not iterable"
     ]
    }
   ],
   "source": [
    "# Get all reactions where the metabolite is\n",
    "\n",
    "metabolite_all_rxns = list(model.metabolites.get_by_id('triglyc_RT_r'))\n",
    "\n",
    "# metabolite_all_rxns_id = []\n",
    "\n",
    "# for i in range(len(metabolite_all_rxns)):\n",
    "#         metabolite_all_rxns_id += [metabolite_all_rxns[i].id]  \n",
    "# pc_RT_r_all_rxns_id = (metabolite_all_rxns_id)\n",
    "# clpn_RT_m_all_rxns_id = (metabolite_all_rxns_id)\n",
    "# triglyc_RT_r_all_rxns_id = (metabolite_all_rxns_id)\n",
    "# ergst_c_all_rxns_id = (metabolite_all_rxns_id)\n",
    "\n"
   ]
  },
  {
   "cell_type": "code",
   "execution_count": null,
   "metadata": {},
   "outputs": [
    {
     "name": "stdout",
     "output_type": "stream",
     "text": [
      "[-0.957502, -0.177315, -0.001283, -0.577574, -0.146675, -0.10797, -0.197296, -139.6887, -0.002418, -0.000832, -0.001792, -0.031005, -1.8e-05, -0.00077, -0.044881, -0.000525, -0.034269, -0.002451, -0.004285, -0.003763, -0.002523, -0.004031, -1.6e-05, -0.000751, -0.000597, -0.000597, -0.117898, -0.208673, -0.518069, -0.51322, -0.00192, -0.051085, -135.719639, -0.000691, -0.061167, -0.158569, -0.585703, -0.320205, -0.003107, -0.172334, -0.807941, -0.05705, -0.061716, -0.001292, -0.000607, -0.026099, -0.000888, -0.000795, -1.4e-05, -0.000172, -0.00013, -0.095164, -0.235897, -2e-05, -0.004006, -4.7e-05, -0.006524, -0.0024, -0.00074, -0.00099, -0.33687, -0.003967, -0.001327, -0.001393, -0.21813, -0.023372, -0.000432, -0.023319, -0.062363, -0.051129, -0.275168, -0.00051, -0.004156, -1.7e-05, 139.639453, 139.639453, 139.639453, 0.209364]\n"
     ]
    },
    {
     "data": {
      "text/html": [
       "<div>\n",
       "<style scoped>\n",
       "    .dataframe tbody tr th:only-of-type {\n",
       "        vertical-align: middle;\n",
       "    }\n",
       "\n",
       "    .dataframe tbody tr th {\n",
       "        vertical-align: top;\n",
       "    }\n",
       "\n",
       "    .dataframe thead th {\n",
       "        text-align: right;\n",
       "    }\n",
       "</style>\n",
       "<table border=\"1\" class=\"dataframe\">\n",
       "  <thead>\n",
       "    <tr style=\"text-align: right;\">\n",
       "      <th></th>\n",
       "      <th>Metabolite ID</th>\n",
       "      <th>Coefficient</th>\n",
       "    </tr>\n",
       "  </thead>\n",
       "  <tbody>\n",
       "    <tr>\n",
       "      <th>0</th>\n",
       "      <td>13BDglcn_c</td>\n",
       "      <td>-0.957502</td>\n",
       "    </tr>\n",
       "    <tr>\n",
       "      <th>1</th>\n",
       "      <td>16BDglcn_c</td>\n",
       "      <td>-0.177315</td>\n",
       "    </tr>\n",
       "    <tr>\n",
       "      <th>2</th>\n",
       "      <td>5mthf_c</td>\n",
       "      <td>-0.001283</td>\n",
       "    </tr>\n",
       "    <tr>\n",
       "      <th>3</th>\n",
       "      <td>alatrna_c</td>\n",
       "      <td>-0.577574</td>\n",
       "    </tr>\n",
       "    <tr>\n",
       "      <th>4</th>\n",
       "      <td>argtrna_c</td>\n",
       "      <td>-0.146675</td>\n",
       "    </tr>\n",
       "    <tr>\n",
       "      <th>...</th>\n",
       "      <td>...</td>\n",
       "      <td>...</td>\n",
       "    </tr>\n",
       "    <tr>\n",
       "      <th>73</th>\n",
       "      <td>zymstest_RT_d</td>\n",
       "      <td>-0.000017</td>\n",
       "    </tr>\n",
       "    <tr>\n",
       "      <th>74</th>\n",
       "      <td>adp_c</td>\n",
       "      <td>139.639453</td>\n",
       "    </tr>\n",
       "    <tr>\n",
       "      <th>75</th>\n",
       "      <td>h_c</td>\n",
       "      <td>139.639453</td>\n",
       "    </tr>\n",
       "    <tr>\n",
       "      <th>76</th>\n",
       "      <td>pi_c</td>\n",
       "      <td>139.639453</td>\n",
       "    </tr>\n",
       "    <tr>\n",
       "      <th>77</th>\n",
       "      <td>ppi_c</td>\n",
       "      <td>0.209364</td>\n",
       "    </tr>\n",
       "  </tbody>\n",
       "</table>\n",
       "<p>78 rows × 2 columns</p>\n",
       "</div>"
      ],
      "text/plain": [
       "    Metabolite ID  Coefficient\n",
       "0      13BDglcn_c    -0.957502\n",
       "1      16BDglcn_c    -0.177315\n",
       "2         5mthf_c    -0.001283\n",
       "3       alatrna_c    -0.577574\n",
       "4       argtrna_c    -0.146675\n",
       "..            ...          ...\n",
       "73  zymstest_RT_d    -0.000017\n",
       "74          adp_c   139.639453\n",
       "75            h_c   139.639453\n",
       "76           pi_c   139.639453\n",
       "77          ppi_c     0.209364\n",
       "\n",
       "[78 rows x 2 columns]"
      ]
     },
     "execution_count": 139,
     "metadata": {},
     "output_type": "execute_result"
    }
   ],
   "source": [
    "# # Getting the coefficients of lipids\n",
    "# # Obtaining the coefficients of the metabolites of a certain reaction\n",
    "\n",
    "# rxn_metabolites_coefficients = list(model.reactions.BIOMASS_RT.metabolites.values())\n",
    "# print(rxn_metabolites_coefficients)\n",
    "\n",
    "# # Obtaining the IDs of the metabolites\n",
    "# metabolites = model.reactions.BIOMASS_RT.metabolites.keys()\n",
    "# metabolites = list(metabolites)\n",
    "\n",
    "# rxn_metabolites_names = []\n",
    "# for i in range(len(metabolites)):\n",
    "#         rxn_metabolites_names += [metabolites[i].id]      \n",
    "# # [rxn_metabolites_names.append([metabolites[i].id]) for i in range(len(metabolites))] #trying to do the same with list comprehension\n",
    "\n",
    "# # Make a pd dataframe\n",
    "# rxn_metabolites_with_coefficients = pd.DataFrame({'Metabolite ID': rxn_metabolites_names, 'Coefficient': rxn_metabolites_coefficients})\n",
    "# rxn_metabolites_with_coefficients\n"
   ]
  }
 ],
 "metadata": {
  "kernelspec": {
   "display_name": "bachelor_thesis",
   "language": "python",
   "name": "python3"
  },
  "language_info": {
   "codemirror_mode": {
    "name": "ipython",
    "version": 3
   },
   "file_extension": ".py",
   "mimetype": "text/x-python",
   "name": "python",
   "nbconvert_exporter": "python",
   "pygments_lexer": "ipython3",
   "version": "3.12.0"
  }
 },
 "nbformat": 4,
 "nbformat_minor": 2
}
