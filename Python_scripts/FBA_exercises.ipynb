{
 "cells": [
  {
   "cell_type": "markdown",
   "metadata": {},
   "source": [
    "* Set objective function to ATP minimization\n",
    "* Set upper bounds for biomass: 0.05, 0.10, 0.15, 0.20, 0.25, 0.30 (0.30 is max Rhodotorula growth rate)\n",
    "* Print all fluxes, find biomass function and NADPH functions (in PPP): 'TALA'=Transaldolase, 'TKT1'=Transketolase, 'TKT2'=Transketolase, 'RPI'=Ribose-5-phosphate isomerase, 'G6PDH2rp'=Glucose 6-phosphate dehydrogenase, 'GND'=Phosphogluconate dehydrogenase, 'PGLp'=6-phosphogluconolactonase\n",
    "\n",
    "* Make a graph where specific growth rate is on x-axis and the flux is on y-axis\n"
   ]
  },
  {
   "cell_type": "code",
   "execution_count": 1,
   "metadata": {},
   "outputs": [],
   "source": [
    "import cobra\n",
    "import pandas as pd\n",
    "import os\n",
    "from os.path import join\n",
    "from cobra import Model, Reaction, Metabolite\n",
    "from cobra.sampling import sampling\n",
    "import numpy as np\n",
    "os.environ[\"R_HOME\"] = f\"{os.environ['CONDA_PREFIX']}\\\\Lib\\\\R\"\n",
    "import rpy2.robjects\n",
    "from plotnine import *\n",
    "import matplotlib.pyplot as plt"
   ]
  },
  {
   "cell_type": "code",
   "execution_count": 55,
   "metadata": {},
   "outputs": [],
   "source": [
    "# Importing the model\n",
    "model=cobra.io.read_sbml_model(\"C:\\\\Users\\\\Maive\\\\Desktop\\\\BSc_loputoo\\\\Model_files\\\\Rt_IFO0880.xml\")\n",
    "# Changing the objective function\n",
    "model.objective = \"EX_glc__D_e\" \n",
    "solution = model.optimize('minimize') # minimize the objective function"
   ]
  },
  {
   "cell_type": "code",
   "execution_count": 26,
   "metadata": {},
   "outputs": [
    {
     "data": {
      "text/html": [
       "<div>\n",
       "<style scoped>\n",
       "    .dataframe tbody tr th:only-of-type {\n",
       "        vertical-align: middle;\n",
       "    }\n",
       "\n",
       "    .dataframe tbody tr th {\n",
       "        vertical-align: top;\n",
       "    }\n",
       "\n",
       "    .dataframe thead th {\n",
       "        text-align: right;\n",
       "    }\n",
       "</style>\n",
       "<table border=\"1\" class=\"dataframe\">\n",
       "  <thead>\n",
       "    <tr style=\"text-align: right;\">\n",
       "      <th></th>\n",
       "      <th>EX_h_e</th>\n",
       "      <th>EX_h2o_e</th>\n",
       "      <th>EX_nh4_e</th>\n",
       "      <th>EX_o2_e</th>\n",
       "      <th>EX_pi_e</th>\n",
       "      <th>EX_so4_e</th>\n",
       "      <th>EX_glc__D_e</th>\n",
       "      <th>EX_ca2_e</th>\n",
       "      <th>EX_fe2_e</th>\n",
       "      <th>EX_fe3_e</th>\n",
       "      <th>EX_k_e</th>\n",
       "      <th>EX_na1_e</th>\n",
       "      <th>EX_mg2_e</th>\n",
       "      <th>EX_mn2_e</th>\n",
       "      <th>EX_cu2_e</th>\n",
       "      <th>EX_zn2_e</th>\n",
       "    </tr>\n",
       "  </thead>\n",
       "  <tbody>\n",
       "    <tr>\n",
       "      <th>Upper flux bound</th>\n",
       "      <td>999999.0</td>\n",
       "      <td>999999.0</td>\n",
       "      <td>999999.0</td>\n",
       "      <td>999999.0</td>\n",
       "      <td>999999.0</td>\n",
       "      <td>999999.0</td>\n",
       "      <td>1.0</td>\n",
       "      <td>999999.0</td>\n",
       "      <td>999999.0</td>\n",
       "      <td>999999.0</td>\n",
       "      <td>999999.0</td>\n",
       "      <td>999999.0</td>\n",
       "      <td>999999.0</td>\n",
       "      <td>999999.0</td>\n",
       "      <td>999999.0</td>\n",
       "      <td>999999.0</td>\n",
       "    </tr>\n",
       "  </tbody>\n",
       "</table>\n",
       "</div>"
      ],
      "text/plain": [
       "                    EX_h_e  EX_h2o_e  EX_nh4_e   EX_o2_e   EX_pi_e  EX_so4_e  \\\n",
       "Upper flux bound  999999.0  999999.0  999999.0  999999.0  999999.0  999999.0   \n",
       "\n",
       "                  EX_glc__D_e  EX_ca2_e  EX_fe2_e  EX_fe3_e    EX_k_e  \\\n",
       "Upper flux bound          1.0  999999.0  999999.0  999999.0  999999.0   \n",
       "\n",
       "                  EX_na1_e  EX_mg2_e  EX_mn2_e  EX_cu2_e  EX_zn2_e  \n",
       "Upper flux bound  999999.0  999999.0  999999.0  999999.0  999999.0  "
      ]
     },
     "execution_count": 26,
     "metadata": {},
     "output_type": "execute_result"
    }
   ],
   "source": [
    "# Get growth media\n",
    "# model.medium returns a dictionary that contains the upper flux \n",
    "# bounds for all active exchange fluxes (the ones having non-zero flux bounds\n",
    "# You can modify a growth medium of a model by assigning a dictionary \n",
    "# to model.medium that maps exchange reactions to their respective upper import bounds:\n",
    "# medium = model.medium\n",
    "# medium[\"EX_o2_e\"] = 0.0\n",
    "# model.medium = medium\n",
    "\n",
    "# Make it to a pd dataframe\n",
    "growth_medium = pd.DataFrame(model.medium, index=['Upper flux bound'])\n",
    "growth_medium"
   ]
  },
  {
   "cell_type": "code",
   "execution_count": 56,
   "metadata": {},
   "outputs": [],
   "source": [
    "model.reactions.EX_glc__D_e.bounds = -9999, 9999\n",
    "model.reactions.BIOMASS_RT.bounds = 0.3, 0.3\n"
   ]
  },
  {
   "cell_type": "code",
   "execution_count": 57,
   "metadata": {},
   "outputs": [
    {
     "data": {
      "text/plain": [
       "EX_nh4_e       1.980088\n",
       "EX_o2_e        8.789416\n",
       "EX_pi_e        0.079864\n",
       "EX_so4_e       0.030071\n",
       "EX_glc__D_e    3.995137\n",
       "EX_ca2_e       0.000250\n",
       "EX_fe3_e       0.001851\n",
       "EX_k_e         0.175711\n",
       "EX_na1_e       0.007830\n",
       "EX_mg2_e       0.018515\n",
       "EX_mn2_e       0.000182\n",
       "EX_cu2_e       0.000157\n",
       "EX_zn2_e       0.000153\n",
       "dtype: float64"
      ]
     },
     "execution_count": 57,
     "metadata": {},
     "output_type": "execute_result"
    }
   ],
   "source": [
    "# In some cases you might be interested in the smallest growth medium that can maintain a specific growth rate, \n",
    "# the so called “minimal medium”. For this we provide the function minimal_medium which by default obtains the \n",
    "# medium with the lowest total import flux. This function needs two arguments: the model and the minimum growth \n",
    "# rate (or other objective) the model has to achieve.\n",
    "\n",
    "from cobra.medium import minimal_medium\n",
    "\n",
    "max_growth = model.slim_optimize('minimize')\n",
    "minimal_medium(model, max_growth)"
   ]
  },
  {
   "cell_type": "code",
   "execution_count": 41,
   "metadata": {},
   "outputs": [
    {
     "data": {
      "text/html": [
       "<strong><em>Optimal</em> solution with objective value 0.073</strong><br><div>\n",
       "<style scoped>\n",
       "    .dataframe tbody tr th:only-of-type {\n",
       "        vertical-align: middle;\n",
       "    }\n",
       "\n",
       "    .dataframe tbody tr th {\n",
       "        vertical-align: top;\n",
       "    }\n",
       "\n",
       "    .dataframe thead th {\n",
       "        text-align: right;\n",
       "    }\n",
       "</style>\n",
       "<table border=\"1\" class=\"dataframe\">\n",
       "  <thead>\n",
       "    <tr style=\"text-align: right;\">\n",
       "      <th></th>\n",
       "      <th>fluxes</th>\n",
       "      <th>reduced_costs</th>\n",
       "    </tr>\n",
       "  </thead>\n",
       "  <tbody>\n",
       "    <tr>\n",
       "      <th>ALCD25yi</th>\n",
       "      <td>0.0</td>\n",
       "      <td>0.000000</td>\n",
       "    </tr>\n",
       "    <tr>\n",
       "      <th>MTHFCm</th>\n",
       "      <td>0.0</td>\n",
       "      <td>-0.000000</td>\n",
       "    </tr>\n",
       "    <tr>\n",
       "      <th>AMPN</th>\n",
       "      <td>0.0</td>\n",
       "      <td>-0.003773</td>\n",
       "    </tr>\n",
       "    <tr>\n",
       "      <th>DAGCPTer_RT</th>\n",
       "      <td>0.0</td>\n",
       "      <td>0.000000</td>\n",
       "    </tr>\n",
       "    <tr>\n",
       "      <th>PYRt2</th>\n",
       "      <td>0.0</td>\n",
       "      <td>0.000000</td>\n",
       "    </tr>\n",
       "    <tr>\n",
       "      <th>...</th>\n",
       "      <td>...</td>\n",
       "      <td>...</td>\n",
       "    </tr>\n",
       "    <tr>\n",
       "      <th>FOLt</th>\n",
       "      <td>0.0</td>\n",
       "      <td>0.000000</td>\n",
       "    </tr>\n",
       "    <tr>\n",
       "      <th>NADtm</th>\n",
       "      <td>0.0</td>\n",
       "      <td>0.000000</td>\n",
       "    </tr>\n",
       "    <tr>\n",
       "      <th>EX_pydxn_e</th>\n",
       "      <td>0.0</td>\n",
       "      <td>-0.223369</td>\n",
       "    </tr>\n",
       "    <tr>\n",
       "      <th>PYDXNtr</th>\n",
       "      <td>0.0</td>\n",
       "      <td>0.000000</td>\n",
       "    </tr>\n",
       "    <tr>\n",
       "      <th>RIBFLVt2</th>\n",
       "      <td>0.0</td>\n",
       "      <td>0.000000</td>\n",
       "    </tr>\n",
       "  </tbody>\n",
       "</table>\n",
       "<p>2398 rows × 2 columns</p>\n",
       "</div>"
      ],
      "text/plain": [
       "<Solution 0.073 at 0x1d899feb2f0>"
      ]
     },
     "execution_count": 41,
     "metadata": {},
     "output_type": "execute_result"
    }
   ],
   "source": [
    "solution"
   ]
  },
  {
   "cell_type": "code",
   "execution_count": 4,
   "metadata": {},
   "outputs": [
    {
     "name": "stderr",
     "output_type": "stream",
     "text": [
      "c:\\Users\\Maive\\miniconda3\\envs\\bachelor_thesis\\Lib\\site-packages\\cobra\\util\\solver.py:554: UserWarning: Solver status is 'infeasible'.\n"
     ]
    },
    {
     "name": "stdout",
     "output_type": "stream",
     "text": [
      "     GR  TALA  TKT1  TKT2   RPI G6PDH2rp   GND PGLp\n",
      "0   0.0   0.0 -0.61   0.0  0.61      0.0   0.0  0.0\n",
      "1  0.05 -0.31 -0.31   0.0  0.22      0.0  0.13  0.0\n",
      "2   0.1 -0.09 -0.09  -0.1 -0.09      0.0   0.0  0.0\n",
      "3  0.15 -0.03 -0.03 -0.06 -0.23      0.0  0.14  0.0\n",
      "4   0.2  0.08  0.08  0.04 -0.41      0.0  0.53  0.0\n",
      "5  0.25  0.07  0.07  0.03 -0.49      0.0   0.6  0.0\n",
      "6   0.3  0.58  0.16   0.1 -0.66      0.0  0.92  0.0\n"
     ]
    }
   ],
   "source": [
    "# Change bounds for biomass: 0.05, 0.10, 0.15, 0.20, 0.25, 0.30\n",
    "\n",
    "GR_range= [0.0, 0.05, 0.10, 0.15, 0.20, 0.25, 0.30]\n",
    "df = pd.DataFrame(columns=['GR','TALA', 'TKT1', 'TKT2', 'RPI', 'G6PDH2rp', 'GND', 'PGLp'])\n",
    "\n",
    "for i in range(len(GR_range)):\n",
    "    model.reactions.BIOMASS_RT.bounds = GR_range[i], GR_range[i]\n",
    "    model.objective = \"ATPM\" \n",
    "    solution = model.optimize('minimize')\n",
    "    solution.objective_value\n",
    "    GR_flux = solution.fluxes.BIOMASS_RT\n",
    "    TALA_flux = solution.fluxes.TALA\n",
    "    TKT1_flux = solution.fluxes.TKT1\n",
    "    TKT2_flux = solution.fluxes.TKT2\n",
    "    RPI_flux = solution.fluxes.RPI\n",
    "    G6PDH2rp_flux = solution.fluxes.G6PDH2rp\n",
    "    GND_flux = solution.fluxes.GND\n",
    "    PGLp_flux = solution.fluxes.PGLp\n",
    "    df.loc[i, 'GR'] = GR_flux\n",
    "    df.loc[i, 'TALA'] =round(TALA_flux,2)\n",
    "    df.loc[i, 'TKT1'] =round(TKT1_flux,2)\n",
    "    df.loc[i, 'TKT2'] =round(TKT2_flux,2)\n",
    "    df.loc[i, 'RPI'] =round(RPI_flux,2)\n",
    "    df.loc[i, 'G6PDH2rp'] =round(G6PDH2rp_flux,2)\n",
    "    df.loc[i, 'GND'] =round(GND_flux,2)\n",
    "    df.loc[i, 'PGLp'] =round(PGLp_flux,2)    \n",
    "\n",
    "print(df)\n",
    "\n",
    "# Extract flux values\n",
    "TALA_fluxes = df['TALA']\n",
    "TKT1_fluxes = df['TKT1']\n",
    "TKT2_fluxes = df['TKT2']\n",
    "RPI_fluxes = df['RPI']\n",
    "G6PDH2rp_fluxes = df['G6PDH2rp']\n",
    "GND_fluxes = df['GND']\n",
    "PGLp_fluxes = df['PGLp']\n"
   ]
  },
  {
   "cell_type": "code",
   "execution_count": 5,
   "metadata": {},
   "outputs": [
    {
     "name": "stdout",
     "output_type": "stream",
     "text": [
      "ALCD25yi       0.00000\n",
      "MTHFCm         0.00000\n",
      "AMPN           0.00000\n",
      "DAGCPTer_RT    0.00516\n",
      "PYRt2          0.00000\n",
      "                ...   \n",
      "FOLt           0.00000\n",
      "NADtm          0.00000\n",
      "EX_pydxn_e     0.00000\n",
      "PYDXNtr        0.00000\n",
      "RIBFLVt2       0.00000\n",
      "Name: fluxes, Length: 2398, dtype: float64\n"
     ]
    }
   ],
   "source": [
    "# Get all flux values\n",
    "all_fluxes = solution.fluxes\n",
    "print(all_fluxes)\n"
   ]
  },
  {
   "cell_type": "code",
   "execution_count": 6,
   "metadata": {},
   "outputs": [
    {
     "data": {
      "image/png": "[encoded data removed]",
      "text/plain": [
       "<Figure size 640x480 with 1 Axes>"
      ]
     },
     "metadata": {},
     "output_type": "display_data"
    }
   ],
   "source": [
    "# Plot the flux values\n",
    "\n",
    "x = GR_range\n",
    "y = [TALA_fluxes, TKT1_fluxes, TKT2_fluxes, RPI_fluxes, G6PDH2rp_fluxes, GND_fluxes, PGLp_fluxes]\n",
    "labels = ['TALA', 'TKT1', 'TKT2', 'RPI', 'G6PDH2rp', 'GND', 'PGLp']\n",
    "# plt.plot(x1, y1, label='Plot 1')\n",
    "for i in range(len(x)):\n",
    "    plt.scatter(x, y[i], label=labels[i])\n",
    "\n",
    "plt.xlabel('Biomass growth rate')\n",
    "plt.ylabel('Flux')\n",
    "plt.title('PPP enzymes flux values on specific growth rate')\n",
    "plt.legend()\n",
    "plt.show()\n"
   ]
  }
 ],
 "metadata": {
  "kernelspec": {
   "display_name": "bachelor_thesis",
   "language": "python",
   "name": "python3"
  },
  "language_info": {
   "codemirror_mode": {
    "name": "ipython",
    "version": 3
   },
   "file_extension": ".py",
   "mimetype": "text/x-python",
   "name": "python",
   "nbconvert_exporter": "python",
   "pygments_lexer": "ipython3",
   "version": "3.12.0"
  }
 },
 "nbformat": 4,
 "nbformat_minor": 2
}
